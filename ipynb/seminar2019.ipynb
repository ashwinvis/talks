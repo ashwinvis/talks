{
 "cells": [
  {
   "cell_type": "code",
   "execution_count": 1,
   "metadata": {
    "slideshow": {
     "slide_type": "skip"
    }
   },
   "outputs": [
    {
     "data": {
      "text/html": [
       "<link rel=\"stylesheet\" type=\"text/css\" href=\"../seminar2019.css\">\n",
       "<script>\n",
       "    var link = document.createElement( 'link' );\n",
       "    link.rel = 'stylesheet';\n",
       "    link.type = 'text/css';\n",
       "    link.href = window.location.search.match( /print-pdf/gi ) ? '../js/reveal.js-3.6.0/css/print/pdf.css' : '../js/reveal.js-3.6.0/css/print/paper.css';\n",
       "    document.getElementsByTagName( 'head' )[0].appendChild( link );\n",
       "</script>\n"
      ],
      "text/plain": [
       "<IPython.core.display.HTML object>"
      ]
     },
     "metadata": {},
     "output_type": "display_data"
    }
   ],
   "source": [
    "%%html\n",
    "<link rel=\"stylesheet\" type=\"text/css\" href=\"../seminar2019.css\">\n",
    "<script>\n",
    "    var link = document.createElement( 'link' );\n",
    "    link.rel = 'stylesheet';\n",
    "    link.type = 'text/css';\n",
    "    link.href = window.location.search.match( /print-pdf/gi ) ? '../js/reveal.js-3.6.0/css/print/pdf.css' : '../js/reveal.js-3.6.0/css/print/paper.css';\n",
    "    document.getElementsByTagName( 'head' )[0].appendChild( link );\n",
    "</script>\n"
   ]
  },
  {
   "cell_type": "raw",
   "metadata": {
    "slideshow": {
     "slide_type": "-"
    }
   },
   "source": [
    "<style type=\"text/css\">\n",
    "img .wrap{\n",
    "    float: right;\n",
    "    margin: 0 20px 20px 0;\n",
    "}\n",
    "</style>"
   ]
  },
  {
   "cell_type": "raw",
   "metadata": {},
   "source": [
    "<div align=\"middle\">\n",
    "<img src=\"./fig/misu_seminar2018_wordcloud.png\" class=\"wrap\" style=\"width: 100%\" align=\"middle\"/>&nbsp; &nbsp;&nbsp; &nbsp;\n",
    "</div>"
   ]
  },
  {
   "cell_type": "markdown",
   "metadata": {
    "slideshow": {
     "slide_type": "-"
    }
   },
   "source": [
    "# Studies in geophysical fluid mechanics\n",
    "**Ashwin Vishnu Mohanan\\***, Pierre Augier^, Erik Lindborg\\*\n",
    "\n",
    "<small>* Linne Flow Center, Department of Mechanics, KTH, Stockholm, Sweden</small><br/>\n",
    "<small>^ LEGI / CNRS, Université Grenoble Alpes, Grenoble, France</small>"
   ]
  },
  {
   "cell_type": "raw",
   "metadata": {
    "slideshow": {
     "slide_type": "-"
    }
   },
   "source": [
    "<div align=\"right\">\n",
    "<img src=\"./fig/logo_FLOW.png\"  style=\"width: 7%\"/> &nbsp; &nbsp;\n",
    "<img src=\"./fig/logo_KTH.png\"  style=\"width: 5%\"/>\n",
    "</div>\n",
    "\n",
    "<div align=\"right\">\n",
    "<font color=\"gray\">\n",
    "<small>\n",
    "15 Feb 2018 (13:00 - 13:15 hrs), MISU <br/>\n",
    "Stockholm University, Stockholm, Sweden\n",
    "</small>\n",
    "</font>\n",
    "</div>"
   ]
  },
  {
   "cell_type": "markdown",
   "metadata": {
    "slideshow": {
     "slide_type": "notes"
    }
   },
   "source": [
    "* Good morning all!\n",
    "* I am here to talk about **how we modified** the shallow water equations, into a **toy-model** for turbulence studies.\n",
    "* This work has been a **culmination of the efforts** from Erik, Pierre and myself Ashwin."
   ]
  },
  {
   "cell_type": "markdown",
   "metadata": {
    "slideshow": {
     "slide_type": "slide"
    }
   },
   "source": [
    "## Related research\n",
    "\n",
    " 1. **Augier, P., Mohanan A.V. & Lindborg, E.** *Shallow water wave turbulence* **J. Fluid Mech. (under review)**.\n",
    " 1. **Lindborg, E. & Mohanan, A. V.** *A two-dimensional toy model for geophysical turbulence.* **Phys. Fluids (2017)**.\n",
    " 1. **Augier, P., Mohanan A.V. & Bonamy, C.** *FluidDyn: a Python open-source framework for research and teaching in fluid dynamics* **J. Open Res. Softw. (under review)**.\n",
    " 1. **Mohanan A.V., Bonamy, C. & Augier, P.** *FluidFFT: common API (C++ and Python) for Fast Fourier Transform HPC libraries*  **J. Open Res. Softw. (under review)**.\n",
    " 1. **Mohanan A.V., Bonamy, C., Linares, M. C. & Augier, P.** *FluidSim: modular, object-oriented Python package for high-performance CFD simulations* **J. Open Res. Softw. (under review)**.\n",
    " \n",
    "Article [2] selected as ***featured research*** by AIP (Nov 22, 2017) "
   ]
  },
  {
   "cell_type": "raw",
   "metadata": {
    "slideshow": {
     "slide_type": "-"
    }
   },
   "source": [
    "<div>\n",
    "<img src=\"./fig/agu_screen_scilight.png\" alt=\"Drawing\" style=\"width: 50%; display: block; margin: auto;\"/>\n",
    "</div>"
   ]
  },
  {
   "cell_type": "markdown",
   "metadata": {
    "slideshow": {
     "slide_type": "notes"
    }
   },
   "source": [
    "* Here, I have **listed the articles** related to this talk\n",
    "* Pleased to annouce that - **distinction** of being featured among several AIP publications once a week. "
   ]
  },
  {
   "cell_type": "markdown",
   "metadata": {
    "slideshow": {
     "slide_type": "slide"
    }
   },
   "source": [
    "## 1. Background\n",
    "#### 1.1. Atmospheric energy spectra from aircraft data: Nastrom and Gage (1985)\n",
    "<div  align=\"center\">\n",
    "<img src=\"./fig/agu_nastrom.png\" alt=\"Nastrom and Gage\" style=\"width: 50%;\"/>\n",
    "</div>\n",
    "\n",
    "* Synoptic scale spectra ($\\lambda > 1000$ km) ~  $k^{-3}$\n",
    "* Mesoscale spectra ($\\lambda = 1$ to $500$ km) ~ $k^{-5/3}$"
   ]
  },
  {
   "cell_type": "markdown",
   "metadata": {
    "slideshow": {
     "slide_type": "notes"
    }
   },
   "source": [
    "* **Picture in front of** you is the result of **aircraft measurements** in the atmosphere accumulated over several years\n",
    "* Planetery scale and mesoscale\n",
    "* Why does this happen? There are several answers..."
   ]
  },
  {
   "cell_type": "markdown",
   "metadata": {
    "slideshow": {
     "slide_type": "slide"
    }
   },
   "source": [
    "## 1. Background\n",
    "#### 1.2. Possible explanations for the mesoscale energy  $k^{-5/3}$ spectra\n"
   ]
  },
  {
   "cell_type": "markdown",
   "metadata": {
    "slideshow": {
     "slide_type": "fragment"
    }
   },
   "source": [
    "* **Gage (1979) & Lilly (1983)**: *inverse energy cascade* as in **Kraichnan (1967)**\n",
    "\n",
    "* **Dewan (1979)**:*forward energy cascade* as in **Kolmogorov (1941)**"
   ]
  },
  {
   "cell_type": "markdown",
   "metadata": {
    "slideshow": {
     "slide_type": "fragment"
    }
   },
   "source": [
    "###### Theoretical predictions for turbulent structures involved\n",
    "* **Lindborg (2006)** and **Waite & Bartello (2004)**: Stratified turbulence result in thin elongated structures. Vertical length scale $ l_v \\sim u/N \\approx 1 km$ "
   ]
  },
  {
   "cell_type": "markdown",
   "metadata": {
    "slideshow": {
     "slide_type": "fragment"
    }
   },
   "source": [
    "* **Callies, Bühler and Ferrari (2016)**: Inertia gravity waves, with frequency $\\omega \\approx f$. i.e. $l_v \\approx$ 100 metres."
   ]
  },
  {
   "cell_type": "markdown",
   "metadata": {
    "slideshow": {
     "slide_type": "notes"
    }
   },
   "source": [
    "* **Kraichnan**: Inverse ener. E(k) ~ k^{-5/3} & Forward ens.: E(k)~k^{-3}\n",
    "* Emerging consensus that it could be explained by downscale or forward energy cascade.\n",
    "* Theories tried to **estimate the type of vertical structures** and **quantify the length scale**\n",
    "* Lindborg and Waite & Bartello in seperate studies attributed this to **elongated structures** (zig-zag instability) estimated to be bands of **1 km**\n",
    "* Callies et al. pointed out this could be because of gravity waves **few metres**\n",
    "* That raises the question is there is a minimum **Vertical resolution?** to get the mesoscale spectra?"
   ]
  },
  {
   "cell_type": "markdown",
   "metadata": {
    "slideshow": {
     "slide_type": "skip"
    }
   },
   "source": [
    "## 1. Background\n",
    "#### 1.3. Stratified Turbulence\n"
   ]
  },
  {
   "cell_type": "markdown",
   "metadata": {
    "slideshow": {
     "slide_type": "skip"
    }
   },
   "source": [
    " * **Lindborg (2006)**: Postulated scaling laws for non-rotating stratified turbulence\n",
    "\n",
    "   - Length scale:\n",
    "     - $l_v \\sim u/N$\n",
    "     - $\\frac{l_v}{l_h} \\sim F_h$, the horizontal Froude number. Typically $F_h << 1$ for strong stratification.\n",
    "   - Energy spectrum:\n",
    "     - $E_K(k_h) = C_1 \\epsilon_K^{2/3}k_h^{-5/3}$;\n",
    "     - $E_A(k_h) = C_2 \\epsilon_P \\epsilon_K^{-1/3}k_h^{-5/3}$\n",
    "   - Forward energy cascade: $\\Pi > 0$\n"
   ]
  },
  {
   "cell_type": "markdown",
   "metadata": {
    "slideshow": {
     "slide_type": "slide"
    }
   },
   "source": [
    "## 1. Background\n",
    "#### 1.3. Stratified Turbulence\n"
   ]
  },
  {
   "cell_type": "raw",
   "metadata": {
    "slideshow": {
     "slide_type": "-"
    }
   },
   "source": [
    "<div align=\"right\">\n",
    "<img src=\"./fig/flow_lind06_1.png\" alt=\"Drawing\" style=\"width: 45%;\" /> &nbsp;\n",
    "<img src=\"./fig/flow_lind06_2.png\" alt=\"Drawing\" style=\"width: 40%;\"/>\n",
    "</div>"
   ]
  },
  {
   "cell_type": "markdown",
   "metadata": {
    "slideshow": {
     "slide_type": "-"
    }
   },
   "source": [
    "3D Boussinesq equation simulations in **Lindborg (2006)** demonstrated that\n",
    "* energy spectra scales as $k^{-5/3}$\n",
    "* energy flux indicates a **forward energy cascade**"
   ]
  },
  {
   "cell_type": "markdown",
   "metadata": {
    "slideshow": {
     "slide_type": "notes"
    }
   },
   "source": [
    "* Confirmed with DNS results.\n",
    "* Compenstated spectra on the left -> k-5/3\n",
    "* Flux on the right -> Forward cascade"
   ]
  },
  {
   "cell_type": "markdown",
   "metadata": {
    "slideshow": {
     "slide_type": "slide"
    }
   },
   "source": [
    "\n",
    "\n",
    "## 1. Background\n",
    "#### 1.4. Results from General Circulation Models\n"
   ]
  },
  {
   "cell_type": "markdown",
   "metadata": {
    "slideshow": {
     "slide_type": "-"
    }
   },
   "source": [
    " * **Augier & Lindborg (2013)**: A GCM called **AFES** can simulate mesoscale energy cascade with coarse vertical resolution: 24 levels!\n",
    " * Other GCMs (ECMWF) cannot!\n",
    " * Energy spectra and fluxes computed from spherical harmonics . Spherical harmonic indices $l$ & $m$ correspond to latitude and longitude angles.\n",
    "\n"
   ]
  },
  {
   "cell_type": "raw",
   "metadata": {
    "slideshow": {
     "slide_type": "-"
    }
   },
   "source": [
    "<div align=\"right\">\n",
    "<img src=\"./fig/agu_afes.png\" alt=\"Drawing\" style=\"width: 40%;\" /> &nbsp;\n",
    "<img src=\"./fig/agu_gcm_flux.png\" alt=\"Drawing\" style=\"width: 40%;\"/>\n",
    "</div>"
   ]
  },
  {
   "cell_type": "markdown",
   "metadata": {
    "slideshow": {
     "slide_type": "notes"
    }
   },
   "source": [
    "* Fact: **GCM such as AFES** able to **reproduce mesoscale spectra** with very few pressure levels\n",
    "* **l < 3** ( planetary scales) APE is forced; l \n",
    "* **l = [8, 30]** baroclinic instability: conversion from APE -> KE. reflected also in green $C_{cum}$ curve\n",
    "* **l > 50** reasonably flat energy flux -> inertial range and some \n",
    "energy goes upscale\n",
    "* **l < 10** inverse energy cascade: source of large scale circulations"
   ]
  },
  {
   "cell_type": "markdown",
   "metadata": {
    "slideshow": {
     "slide_type": "slide"
    }
   },
   "source": [
    "## 1. Background\n",
    "#### 1.4. Motivation for the present study\n",
    "\n",
    "#### Questions and contradictions\n",
    "\n",
    "* Stratified turbulence predicts a fine vertical resolution to be needed for obtaining $k^{-5/3}$ spectra\n",
    "* GCM simulations required only 24 pressure levels\n"
   ]
  },
  {
   "cell_type": "markdown",
   "metadata": {
    "slideshow": {
     "slide_type": "fragment"
    }
   },
   "source": [
    "<br/>\n",
    "\n",
    "* Minimum number of levels required to reproduce $k^{-5/3}$ spectra?\n",
    "* Is it possible with a single level model? **1-layer Shallow-water equation?**"
   ]
  },
  {
   "cell_type": "markdown",
   "metadata": {
    "slideshow": {
     "slide_type": "notes"
    }
   },
   "source": [
    "* How many levels do we need in the **vertical**?\n",
    "* Most **extreme** case: the shallow water equations?"
   ]
  },
  {
   "cell_type": "markdown",
   "metadata": {
    "slideshow": {
     "slide_type": "slide"
    }
   },
   "source": [
    "## 2. Quest for the simplest model\n",
    "\n",
    "##### Why shallow-water equations?\n",
    "$$\\frac{\\partial {\\bf u}} {\\partial t} + {\\bf u}\\cdot \\nabla{\\bf u} +  f {\\bf e}_z \\times {\\bf u} = -c^2 \\nabla \\eta $$\n",
    "$$\\frac{\\partial \\eta}{\\partial t}+ {\\bf u} \\cdot \\nabla \\eta   = - (1+\\eta) \\nabla \\cdot {\\bf u}$$\n",
    "\n",
    "* Explain many geophysical phenomena, including waves\n",
    "\n",
    "* Conserves potential vorticity and enstrophy."
   ]
  },
  {
   "cell_type": "markdown",
   "metadata": {
    "slideshow": {
     "slide_type": "fragment"
    }
   },
   "source": [
    "##### Why not shallow-water equations?\n",
    "\n",
    "* Kinetic energy is not quadratic, but cubic: $E_K = (H + \\eta) \\frac{\\mathbf{u}.\\mathbf{u}}{2}$\n",
    "* Potential enstrophy is not quadratic in general.\n",
    "* Tendency for waves to develop into shocks giving rise to $k ^ {-2}$ energy spectra"
   ]
  },
  {
   "cell_type": "markdown",
   "metadata": {
    "slideshow": {
     "slide_type": "notes"
    }
   },
   "source": [
    "* For those who are unfamiliar, SWE solves for horizontal velocity vector $\\bf{u}$ (momentum conservation) and non-dimensional surface displacement ${\\eta}$ (mass conservation)\n",
    "* Many **good properties**\n",
    "* **Not suitable for turbulence** studies... why?\n",
    "* Reason: inability to represent K.E. and Pot. Enstrophy in **quadratic form**\n",
    "* More importantly: **Shocks** result in $k^{-2}$, not $k^{-5/3}$ spectra"
   ]
  },
  {
   "cell_type": "markdown",
   "metadata": {
    "slideshow": {
     "slide_type": "slide"
    }
   },
   "source": [
    "## 2. Quest for the simplest model\n",
    "\n",
    "#### Divergence fields ($\\nabla\\cdot\\bf{u}$) of shallow-water equations and toy model: forcing at $k_f = 6$\n",
    "\n",
    "![Wave-vortex fields](./fig/agu_run1_div.png)"
   ]
  },
  {
   "cell_type": "markdown",
   "metadata": {
    "slideshow": {
     "slide_type": "notes"
    }
   },
   "source": [
    "* Shocks appear as **sharp thin fronts** with **negative divergence**\n",
    "* Divergence field (also related to vertical velocity)\n",
    "* In toy model, **alternating bands** -> waves!"
   ]
  },
  {
   "cell_type": "markdown",
   "metadata": {
    "slideshow": {
     "slide_type": "slide"
    }
   },
   "source": [
    "## 2. Quest for the simplest model\n",
    "#### Quasi-Geostrophy (QG): **Charney (1971)**\n",
    "\n",
    "  - In QG limit, potential vorticity can be approximated as $ Q = \\frac{f +\\zeta }{1+\\eta} \\rightarrow q = \\zeta + \\beta y - f_0\\eta$. Thus QG potential enstrophy, $\\Omega = \\frac{1}{2} q^2$ is quadratic.\n",
    "  - Inverse energy cascade and forward enstrophy cascade: just like 2D turbulence in **Kraichnan (1971)**.\n",
    "\n",
    "Shallow water equation is often studied as QG equations:\n",
    "\n",
    "$$\\frac{D}{Dt}\\left(\\nabla^2 \\psi + \\beta y - \\frac{1}{L_d^2} \\psi \\right)= \\frac{D}{Dt}\\left(\\zeta + \\beta y - f_0 \\eta \\right)=0$$\n",
    "\n",
    "Important assumptions:\n",
    "\n",
    "1. Rossby number, $Ro < 1 \\implies$ strong rotation\n",
    "2. Burger number, $1 / Bu = L_d / L < 1 \\implies$ planetary scales\n",
    "3. Variations in coriolis term ($\\beta$) is small $\\implies$ mid-latitudes and above\n",
    "\n"
   ]
  },
  {
   "cell_type": "markdown",
   "metadata": {
    "slideshow": {
     "slide_type": "notes"
    }
   },
   "source": [
    "* Energies must be **conserved** in the **quadratic** form\n",
    "* **Potential enstrophy** conservation in the QG limit\n",
    "* **No shocks**!"
   ]
  },
  {
   "cell_type": "markdown",
   "metadata": {},
   "source": [
    "$$\\require{color} \\newcommand{\\red}[1]{\\mathbin{\\textcolor{red}{#1}}} \\newcommand{\\green}[1]{\\mathbin{\\textcolor{green}{#1}}}$$"
   ]
  },
  {
   "cell_type": "markdown",
   "metadata": {
    "slideshow": {
     "slide_type": "slide"
    }
   },
   "source": [
    "## 2. Quest for the simplest model"
   ]
  },
  {
   "cell_type": "markdown",
   "metadata": {},
   "source": [
    "#### Motivations for the Modifications: **(Lindborg and Mohanan 2017)**"
   ]
  },
  {
   "cell_type": "markdown",
   "metadata": {
    "slideshow": {
     "slide_type": "-"
    }
   },
   "source": [
    "$$\\frac{\\partial {\\bf u}} {\\partial t} + {{\\bf u}\\cdot \\nabla} {\\bf u} +  f {\\bf e}_z \\times {\\bf u} = -c^2 \\nabla \\eta $$\n",
    "\n",
    "$$\\frac{\\partial \\eta}{\\partial t}+ {{\\bf u} \\cdot \\nabla} \\eta   = \\red{- (1+\\eta) \\nabla \\cdot {\\bf u}}$$"
   ]
  },
  {
   "cell_type": "markdown",
   "metadata": {
    "slideshow": {
     "slide_type": "fragment"
    }
   },
   "source": [
    "\n",
    "* **Assumption #1**: *Surface displacement much smaller compared to the mean fluid layer height,* $\\eta << 1$. \n",
    "<br/><br/>\n",
    "<div align=\"left\">\n",
    "<img src='./fig/arrow-right.png' width=\"100px\"/>&nbsp;Replace &nbsp;$ \\red{-(1+\\eta) \\nabla \\cdot  {\\bf u}}$  &nbsp; with  &nbsp; $ \\green{-\\nabla \\cdot {\\bf u}} $\n",
    "</div>\n",
    "<br/>\n"
   ]
  },
  {
   "cell_type": "markdown",
   "metadata": {
    "slideshow": {
     "slide_type": "slide"
    }
   },
   "source": [
    "## 2. Quest for the simplest model"
   ]
  },
  {
   "cell_type": "markdown",
   "metadata": {},
   "source": [
    "#### Motivations for the Modifications: **(Lindborg and Mohanan 2017)**"
   ]
  },
  {
   "cell_type": "markdown",
   "metadata": {
    "slideshow": {
     "slide_type": "-"
    }
   },
   "source": [
    "$$\\frac{\\partial {\\bf u}} {\\partial t} + \\red{{\\bf u}\\cdot \\nabla} {\\bf u} +  f {\\bf e}_z \\times {\\bf u} = -c^2 \\nabla \\eta $$\n",
    "\n",
    "$$\\frac{\\partial \\eta}{\\partial t}+ \\red{{\\bf u} \\cdot \\nabla} \\eta   = \\green{-\\nabla \\cdot {\\bf u}}$$"
   ]
  },
  {
   "cell_type": "markdown",
   "metadata": {
    "slideshow": {
     "slide_type": "fragment"
    }
   },
   "source": [
    "* **Assumption #2**: *Velocities in the large scale are dominated by rotational part,* $ |\\bf u_r| >> |\\bf u_d| $. Use Helmoltz decomposition to make this distiction.\n",
    "\n",
    "<br/>\n",
    "<div align=\"left\">\n",
    "<br/>\n",
    "<img src='./fig/arrow-right.png' width=\"100px\"/>&nbsp;Replace &nbsp; $\\red{{\\bf u} \\cdot \\nabla}$&nbsp;  with &nbsp;\n",
    "$\\green{{\\bf u_r} \\cdot \\nabla}$ \n",
    "</div>"
   ]
  },
  {
   "cell_type": "markdown",
   "metadata": {},
   "source": [
    "While allowing, $|\\zeta| \\sim |d|$ in contrast with QG where $|\\zeta| >> |d|$ "
   ]
  },
  {
   "cell_type": "markdown",
   "metadata": {
    "slideshow": {
     "slide_type": "notes"
    }
   },
   "source": [
    "Apply two modifications on the classical shallow water equations\n",
    "* replace the right hand side of the scalar equation to make it **linear**. Reason: \\eta << 1 when **Fr -> 0**\n",
    "* in the **advection term** we use **rotational velocity**. Reason: **large scale motions** dominated by rotation\n",
    "* use **Helmholtz decomposition** to calculate u_r"
   ]
  },
  {
   "cell_type": "markdown",
   "metadata": {
    "slideshow": {
     "slide_type": "slide"
    }
   },
   "source": [
    "## 2. Quest for the simplest model\n",
    "####  The toy model equations\n",
    "\n",
    "$$\\frac{\\partial {\\bf u}} {\\partial t} + \\green{{\\bf u}_r\\cdot \\nabla} {\\bf u} + f {\\bf e}_z\\times {\\bf u} = -c \\nabla \\theta $$\n",
    "\n",
    "$$\\frac{\\partial \\theta}{\\partial t}+ \\green{{\\bf u}_r \\cdot \\nabla} \\theta   = -  c\\green{\\nabla \\cdot {\\bf u}} $$\n",
    "\n",
    "where, $\\theta = c\\eta$\n"
   ]
  },
  {
   "cell_type": "markdown",
   "metadata": {
    "slideshow": {
     "slide_type": "-"
    }
   },
   "source": [
    "* **Pros**: No shocks, KE and APE are quadratic and conserved, linearised potential vorticity conserved in the limit $Ro \\rightarrow 0$: $q = \\zeta - f\\eta$\n",
    "\n",
    "* **Cons**: Full potential vorticity $Q$ is not exactly conserved"
   ]
  },
  {
   "cell_type": "markdown",
   "metadata": {
    "slideshow": {
     "slide_type": "notes"
    }
   },
   "source": [
    "* **Putting in the assumptions** mentioned earlier, we get the toy-model\n",
    "* Replaced \\eta with a proportional \\theta variable. Takes the form of potential temperature.\n",
    "* Advantages and disadvantages\n",
    "<div align=\"center\">\n",
    "${\\bf u} = \\bf{u}_r + \\bf{u}_d$\n",
    "</div>\n",
    "<br/>\n",
    "\n",
    " * $ {\\bf u}_r  = -\\nabla \\times ( {\\bf e_z} \\Psi)$ is the rotational component\n",
    " * $\\bf {u}_d = \\nabla \\chi$ is the divergent component\n",
    " \n",
    "with $\\Psi$ and $\\chi$ being the **stream function** and the **velocity potential** respectively.\n",
    "\n",
    "$$\\begin{align}\n",
    "\\widehat{a}_{1} &= \\frac{k}{\\sqrt{2} \\omega} ( c \\widehat{\\theta} + f \\widehat{\\Psi} - {\\mbox{i}} \\omega \\widehat{\\chi} )  \\\\\n",
    "\\widehat{a}_{2} &=  \\frac{k}{\\sqrt{2} \\omega} ( c \\widehat{\\theta} - f \\widehat{\\Psi} + {\\mbox{i}} \\omega \\widehat{\\chi} ) \\\\\n",
    "\\widehat{b} &=  \\frac{1}{\\omega} (c k^2 \\widehat{\\Psi}-f \\widehat{\\theta}   ) \\\\\n",
    "\\end{align}\n",
    "$$\n",
    "where, $\\omega =  \\sqrt{f^2+k^2c^2}$"
   ]
  },
  {
   "cell_type": "markdown",
   "metadata": {
    "slideshow": {
     "slide_type": "slide"
    }
   },
   "source": [
    "## 3. Results\n",
    "\n",
    "#### Energy spectra and spectral energy fluxes\n",
    "Toy model forced at $k_f = 6$\n"
   ]
  },
  {
   "cell_type": "raw",
   "metadata": {},
   "source": [
    "<div>\n",
    "<img src=\"./fig/agu_run1_flux.png\" alt=\"Drawing\" style=\"width: 45%;\" align=\"right\"/> &nbsp;\n",
    "<img src=\"./fig/agu_run1_spectra.png\" alt=\"Drawing\" style=\"width: 45%;\"  align=\"right\"> \n",
    "</div>"
   ]
  },
  {
   "cell_type": "markdown",
   "metadata": {
    "slideshow": {
     "slide_type": "notes"
    }
   },
   "source": [
    "* Wave spectra scales as k^{-5/3}, forward energy cascade, dominates\n",
    "* Vortex spectra scales as k^{-3}, forward enstrophy cascade\n",
    "* Tendency for inverse energy cascade"
   ]
  },
  {
   "cell_type": "markdown",
   "metadata": {
    "slideshow": {
     "slide_type": "slide"
    }
   },
   "source": [
    "## 3. Results\n",
    "\n",
    "#### Spectral energy fluxes\n",
    "Toy-model forced at $k_f = 30$ compared to GCM results from **Augier & Lindborg(2013)**"
   ]
  },
  {
   "cell_type": "raw",
   "metadata": {
    "slideshow": {
     "slide_type": "-"
    }
   },
   "source": [
    "<div>\n",
    "<img src=\"./fig/agu_run3_flux.png\" alt=\"Drawing\" style=\"width: 45%;\"  align=\"right\"/> &nbsp;\n",
    "<img src=\"./fig/agu_gcm_flux.png\" alt=\"Drawing\" style=\"width: 45%;\"  align=\"right\"/>\n",
    "</div>"
   ]
  },
  {
   "cell_type": "markdown",
   "metadata": {
    "slideshow": {
     "slide_type": "notes"
    }
   },
   "source": [
    "* Similar as before, only **difference is the forcing wavenumber**\n",
    "* Toy model demonstrates **similar energetics** compared to **GCM**\n",
    "* **Conversion** from APE to KE, **forward** cascade and **inverse** cascade of K.E.\n",
    "* **Difference: equipartition** of K.E. and A.P.E. in smaller scales signifying waves. Not present in GCM."
   ]
  },
  {
   "cell_type": "markdown",
   "metadata": {
    "slideshow": {
     "slide_type": "slide"
    }
   },
   "source": [
    "## 3. Results\n",
    "\n",
    "#### Energy spectra\n",
    "Toy model forced at $k_f = 30$\n",
    "\n",
    "![spectra](./fig/agu_run3_spectra.png)"
   ]
  },
  {
   "cell_type": "markdown",
   "metadata": {
    "slideshow": {
     "slide_type": "notes"
    }
   },
   "source": [
    "* **Stronger inverse cascade**, with vortical energy dominating at **larger scales**\n",
    "* Smaller scales, wave and vortex spectra scale (approx) as before.\n",
    "* **Ripples** appear when **coherent vortices** begin to form"
   ]
  },
  {
   "cell_type": "markdown",
   "metadata": {
    "slideshow": {
     "slide_type": "slide"
    }
   },
   "source": [
    "## 3. Results\n",
    "\n",
    "#### Potential vorticity ($q$) and wave ($a_+$) fields\n",
    "Toy model forced at $k_f = 30$\n"
   ]
  },
  {
   "cell_type": "raw",
   "metadata": {
    "slideshow": {
     "slide_type": "-"
    }
   },
   "source": [
    "<div align=\"right\">\n",
    "<video width=\"90%\" controls autoplay loop>\n",
    "  <source src=\"./fig/agu_run3.mp4\" type=\"video/mp4\">\n",
    "</video>\n",
    "</div>"
   ]
  },
  {
   "cell_type": "markdown",
   "metadata": {
    "slideshow": {
     "slide_type": "notes"
    }
   },
   "source": [
    "* Notice the coherent vortices form\n",
    "* Waves form around vortices, strong interactions"
   ]
  },
  {
   "cell_type": "markdown",
   "metadata": {
    "slideshow": {
     "slide_type": "slide"
    }
   },
   "source": [
    "## 3. Results\n",
    "\n",
    "#### Potential vorticity ($q$) and wave ($a_+$) fields: Anticyclone formation\n",
    "Toy model forced at $k_f = 30$\n",
    "\n",
    "![Wave-vortex fields](./fig/agu_run3_anticyc.png)"
   ]
  },
  {
   "cell_type": "markdown",
   "metadata": {
    "slideshow": {
     "slide_type": "notes"
    }
   },
   "source": [
    "* Presence of a **cyclonic core**, surrounded by a strong **anti cyclonic filaments** around it\n",
    "* Also note, the **waves** gathering around the vortex"
   ]
  },
  {
   "cell_type": "markdown",
   "metadata": {
    "slideshow": {
     "slide_type": "slide"
    }
   },
   "source": [
    "## 4. FluidDyn project\n",
    "\n",
    "### fluidsim: modular and reproducible simulation framework\n",
    "\n",
    "Python framework to run sequential and parallel (MPI) CFD simulations for a variety of problems (Navier-Stokes, Shallow Water, Föppl von Kármán equations, ...).\n",
    "\n",
    "- highly modular, object-oriented structure, on-the-fly postprocessing\n",
    "\n",
    "- specialized in pseudo-spectral methods (based on fluidfft),\n",
    "\n",
    "- user friendly, documented\n",
    "\n",
    "- efficient (much faster than Dedalus, faster than SpectralDNS).\n",
    "\n",
    "<div align=\"right\">\n",
    " <img src=\"./fig/logo_fluiddyn_rect.png\" alt=\"Drawing\" width=\"30%\" align=\"right\"/> &nbsp;\n",
    "</div>\n"
   ]
  },
  {
   "cell_type": "markdown",
   "metadata": {
    "slideshow": {
     "slide_type": "slide"
    }
   },
   "source": [
    "## 4. FluidDyn project\n",
    "\n",
    "### fluidfft: API for FFT libraries in sequential and in parallel, with CPU and GPU.\n",
    "\n",
    "Hierarchy of C++ and Cython classes to use different FFT libraries: FFTW, P3DFFT, PFFT, CuFFT .. possibly more?\n",
    "\n",
    "- Python operators classes (2d and 3d) to write code independently of the\n",
    "  library used for the computation of the FFT.\n",
    "\n",
    "- Pythran to speedup critical code. Performance $\\simeq$ Fortran.\n",
    "\n",
    "- Command line utilities (`fluidfft-bench` and `fluidfft-bench-analysis`).\n",
    "\n",
    "- Unit tests!"
   ]
  },
  {
   "cell_type": "markdown",
   "metadata": {
    "slideshow": {
     "slide_type": "slide"
    }
   },
   "source": [
    "## 5. MILESTONE project on Coriolis platform, Grenoble"
   ]
  },
  {
   "cell_type": "raw",
   "metadata": {
    "slideshow": {
     "slide_type": "-"
    }
   },
   "source": [
    "    <div align=\"middle\" style='position: relative;'>\n",
    "      <img src=\"../lmfa20170908/fig/coriolis2.jpg\"\n",
    "           style=\"height: 400px; margin-bottom: 1em;\"> \n",
    "    </div>"
   ]
  },
  {
   "cell_type": "markdown",
   "metadata": {},
   "source": [
    "* The Coriolis platform 13 m diameter)\n",
    "* Used by international researchers through European projects (EUHIT, Hydralab)."
   ]
  },
  {
   "cell_type": "markdown",
   "metadata": {
    "slideshow": {
     "slide_type": "slide"
    }
   },
   "source": [
    "## 5. MILESTONE project on Coriolis platform, Grenoble"
   ]
  },
  {
   "cell_type": "raw",
   "metadata": {
    "slideshow": {
     "slide_type": "-"
    }
   },
   "source": [
    "  <div>\n",
    "  <div class='right' style='float:left;width:48%'>\n",
    "    <img src=\"../lmfa20170908/fig/scheme_exp_grid_MILESTONE_Euhit.png\"  style=\"height: 350px; margin-bottom: 0.6em;\">\n",
    "  </div>\n",
    "  <div class='right' style='float:right;width:48%'>\n",
    "    <div align=\"middle\">\n",
    "     <img src=\"../lmfa20170908/fig/fig_scheme_milestone.jpg\"  style=\"height:350px;margin: 20px 0px;\">\n",
    "    </div>\n",
    "  </div>\n",
    "</div>"
   ]
  },
  {
   "cell_type": "markdown",
   "metadata": {
    "slideshow": {
     "slide_type": "-"
    }
   },
   "source": [
    "Top view of setup used for **2 sets of experiments**\n",
    "- Summer 2016 (a collaboration between KTH, Stockholm, Sweden and LEGI). \n",
    "- Summer 2017: focused on mixing without rotation\n"
   ]
  },
  {
   "cell_type": "markdown",
   "metadata": {
    "slideshow": {
     "slide_type": "slide"
    }
   },
   "source": [
    "## 5. MILESTONE project on Coriolis platform, Grenoble"
   ]
  },
  {
   "cell_type": "raw",
   "metadata": {},
   "source": [
    "<div>\n",
    "  <div class='right' style='float:left;width:48%'>\n",
    "    <video align=\"middle\" height=\"370px\" controls loop muted>\n",
    "      <source src=\"../lmfa20170908/video/moving_carriage.mp4\" type=\"video/mp4\">\n",
    "      Your browser does not support the video tag.\n",
    "    </video>\n",
    "  </div>\n",
    "  <div class='right' style='float:right;width:48%'>\n",
    "    <div align=\"middle\">\n",
    "      <img src=\"../lmfa20170908/fig/milestone_particles_long_expo.jpg\" style=\"height:350px; margin: 20px 0px;\">\n",
    "    </div>\n",
    "  </div>\n",
    "</div>"
   ]
  },
  {
   "cell_type": "markdown",
   "metadata": {
    "slideshow": {
     "slide_type": "-"
    }
   },
   "source": [
    "**Carriage**:\n",
    "\n",
    "- 3 m $\\times$ 1 m\n",
    "- runs on tracks (13 m long)\n",
    "- good control in position ($\\Delta x<$ 5 mm) and in speed ($U< 25$ cm/s)"
   ]
  },
  {
   "cell_type": "markdown",
   "metadata": {
    "slideshow": {
     "slide_type": "slide"
    }
   },
   "source": [
    "<br/>\n",
    "<div align=\"center\"><h1>Thank you for your attention!</h1></div>\n",
    "\n",
    "####  Outlook\n",
    "* Study of **wave-vortex** interactions using shallow-water and toy-model equations\n",
    "\n",
    "* Large simulation of the toy model over a **sphere**\n",
    "\n",
    "* Study of **cyclonic/anticyclonic assymetry** using the toy model\n",
    "\n",
    "##### Summary\n",
    " * Toy model reproduces $k^{-5/3}$ energy spectra similar to atmospheric mesoscale spectra.\n",
    " \n",
    " * FluidDyn open-source project\n",
    " <div>\n",
    "Bitbucket <a href=\"https://bitbucket.org/fluiddyn/fluidsim\">fluiddyn/fluidsim</a> | Github <a href=\"https://github.com/fluiddyn/fluidsim\">fluiddyn/fluidsim </a>\n",
    "</div>\n",
    "\n",
    " * MILESTONE project"
   ]
  },
  {
   "cell_type": "raw",
   "metadata": {
    "slideshow": {
     "slide_type": "-"
    }
   },
   "source": [
    "<div align=\"right\">\n",
    "<font color=\"gray\">\n",
    "<small>\n",
    "CC-BY-SA: <a href=\"https://kth.se/profile/avmo\">Ashwin Vishnu Mohanan</a>\n",
    "</small>\n",
    "</font>\n",
    "</div>"
   ]
  },
  {
   "cell_type": "markdown",
   "metadata": {
    "slideshow": {
     "slide_type": "notes"
    }
   },
   "source": [
    "* The work here has been made using **fully open source** code\n",
    "* I have **summarized** the talk in this slide\n",
    "* Will be happy to take any **questions**\n",
    "* Thank you all for your **attention**"
   ]
  }
 ],
 "metadata": {
  "celltoolbar": "Slideshow",
  "cite2c": {
   "citations": {
    "4218741/3XSZ4X8N": {
     "author": [
      {
       "family": "Bühler",
       "given": "O."
      }
     ],
     "container-title": "J. Atmos. Sci.",
     "container-title-short": "J. Atmos. Sci.",
     "id": "4218741/3XSZ4X8N",
     "issued": {
      "year": "1998"
     },
     "journalAbbreviation": "J. Atmos. Sci.",
     "page": "2884",
     "page-first": "2884",
     "title": "A shallow-water model that prevents nonlinear steepening of gravity waves",
     "type": "article-journal",
     "volume": "55"
    },
    "4218741/8TBG98U6": {
     "DOI": "10.1063/1.4985990",
     "URL": "https://doi.org/10.1063/1.4985990",
     "abstract": "A toy model for large scale geophysical turbulence is constructed by making two modifications of the shallow water model. Unlike the shallow water model, the toy model has a quadratic expression for total energy, which is the sum of Available Potential Energy (APE) and Kinetic Energy (KE). More importantly, in contrast to the shallow water model, the toy model does not produce any shocks. Three numerical simulations with different forcing are presented and compared with the simulation of a full General Circulation Model (GCM). The energy which is injected cascades in a similar way as in the GCM. First, some of the energy is converted from APE to KE at large scales. The wave field then undergoes a forward energy cascade displaying shallow spectra, close to k?5/3, for both APE and KE, while the vortical field either displays a k?3-spectrum or a more shallow spectrum, close to k?5/3, depending on the forcing. In a simulation with medium forcing wave number, some of the energy which is converted from APE to KE undergoes an inverse energy cascade which is produced by nonlinear interactions only involving the rotational component of the velocity field. The inverse energy cascade builds up a vortical field at larger scales than the forcing scale. At these scales, coherent vortices emerge with a strong dominance of anticyclonic vortices. The relevance of the simulation results to the dynamics of the atmosphere is discussed as in possible continuations of the investigation.",
     "accessed": {
      "day": "3",
      "month": "12",
      "year": "2017"
     },
     "author": [
      {
       "family": "Lindborg",
       "given": "Erik"
      },
      {
       "family": "Mohanan",
       "given": "Ashwin Vishnu"
      }
     ],
     "container-title": "Physics of Fluids",
     "container-title-short": "Physics of Fluids",
     "id": "4218741/8TBG98U6",
     "issue": "11",
     "issued": {
      "day": 1,
      "month": "11",
      "year": "2017"
     },
     "journalAbbreviation": "Physics of Fluids",
     "page": "111114",
     "page-first": "111114",
     "title": "A two-dimensional toy model for geophysical turbulence",
     "type": "article-journal",
     "volume": "29"
    },
    "4218741/H6TH6K55": {
     "DOI": "10.1063/1.1762301",
     "URL": "http://scitation.aip.org/content/aip/journal/pof1/10/7/10.1063/1.1762301",
     "author": [
      {
       "family": "Kraichnan",
       "given": "Robert H."
      }
     ],
     "container-title": "Physics of Fluids",
     "id": "4218741/H6TH6K55",
     "issue": "7",
     "issued": {
      "year": "1967"
     },
     "language": "en",
     "page": "1417",
     "page-first": "1417",
     "title": "Inertial Ranges in Two-Dimensional Turbulence",
     "type": "article-journal",
     "volume": "10"
    },
    "4218741/VYW5YIJG": {
     "author": [
      {
       "family": "Nastrom",
       "given": "G. D."
      },
      {
       "family": "Gage",
       "given": "K. S."
      }
     ],
     "container-title": "J. Atmos. Sci.",
     "container-title-short": "J. Atmos. Sci.",
     "id": "4218741/VYW5YIJG",
     "issued": {
      "year": "1985"
     },
     "journalAbbreviation": "J. Atmos. Sci.",
     "page": "950",
     "page-first": "950",
     "title": "A climatology of atmospheric wavenumber spectra of wind and temperature observed by commercial aircraft",
     "type": "article-journal",
     "volume": "42"
    }
   }
  },
  "kernelspec": {
   "display_name": "Python 3",
   "language": "python",
   "name": "python3"
  },
  "language_info": {
   "codemirror_mode": {
    "name": "ipython",
    "version": 3
   },
   "file_extension": ".py",
   "mimetype": "text/x-python",
   "name": "python",
   "nbconvert_exporter": "python",
   "pygments_lexer": "ipython3",
   "version": "3.7.2"
  }
 },
 "nbformat": 4,
 "nbformat_minor": 2
}
