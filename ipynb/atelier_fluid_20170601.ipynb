{
 "cells": [
  {
   "cell_type": "markdown",
   "metadata": {
    "deletable": true,
    "editable": true,
    "slideshow": {
     "slide_type": "slide"
    }
   },
   "source": [
    "# Open-source and Python for the acquisition and the treatment of scientific big data\n",
    "\n",
    "## Example of an experiment of stratified and rotating turbulence in the Coriolis platform"
   ]
  },
  {
   "cell_type": "markdown",
   "metadata": {
    "deletable": true,
    "editable": true,
    "slideshow": {
     "slide_type": "slide"
    }
   },
   "source": [
    "## The MILESTONE experiment: stratified and rotating turbulence in the Coriolis platform\n",
    "\n",
    "<img src=\"./fig/coriolis2.jpg\"  style=\"width: 70%\" align=\"middle\">\n",
    "\n",
    "<h4 align=\"center\">The Coriolis platform (13 m diameter)</h4> "
   ]
  },
  {
   "cell_type": "markdown",
   "metadata": {
    "deletable": true,
    "editable": true,
    "slideshow": {
     "slide_type": "subslide"
    }
   },
   "source": [
    "## The MILESTONE experiment: stratified and rotating turbulence in the Coriolis platform\n",
    "\n",
    "<img src=\"./fig/scheme_exp_grid_MILESTONE_Euhit.png\"  style=\"width: 70%\" align=\"middle\">"
   ]
  },
  {
   "cell_type": "markdown",
   "metadata": {
    "deletable": true,
    "editable": true,
    "slideshow": {
     "slide_type": "subslide"
    }
   },
   "source": [
    "## The MILESTONE experiment: stratified and rotating turbulence in the Coriolis platform\n",
    "\n",
    "<img src=\"./fig/fig_scheme_milestone.jpg\"  style=\"width: 70%\" align=\"middle\">"
   ]
  },
  {
   "cell_type": "markdown",
   "metadata": {
    "deletable": true,
    "editable": true,
    "slideshow": {
     "slide_type": "slide"
    }
   },
   "source": [
    "## Control of experiments in fluid mechanics\n",
    "\n",
    "### Physical experiments can be seen as the interaction of autonomous physical objects\n",
    "\n",
    "Examples :\n",
    "- moving carriage, motor (Modbus TCP)\n",
    "- probe attached to a transverse\n",
    "- oscillating mirror driven by a acquisition board\n",
    "- cameras\n",
    "\n",
    "Issue: control with (a) computer(s) of the interactions and synchronization of the objects"
   ]
  },
  {
   "cell_type": "markdown",
   "metadata": {
    "deletable": true,
    "editable": true,
    "slideshow": {
     "slide_type": "subslide"
    }
   },
   "source": [
    "## Control of experiments in fluid mechanics\n",
    "\n",
    "### Physical experiments can be seen as the interaction of autonomous physical objects\n",
    "\n",
    "Object-oriented programming is very adapted.\n",
    "\n",
    "**Remark**: simple servers with the Python package `rcpy` are useful and efficient:\n",
    "\n",
    "#### Carriage\n",
    "- `motor.py`\n",
    "- `position_sensor.py`\n",
    "- `position_sensor_server.py`\n",
    "- `position_sensor_client.py`\n",
    "- `carriage.py`\n",
    "- `carriage_server.py`\n",
    "- `carriage_client.py`\n",
    "\n",
    "#### Probes\n",
    "- `traverse.py`\n",
    "- `probe.py`\n",
    "- `moving_probe.py`\n",
    "\n",
    "#### Oscillating mirror and cameras..."
   ]
  },
  {
   "cell_type": "markdown",
   "metadata": {
    "deletable": true,
    "editable": true,
    "slideshow": {
     "slide_type": "slide"
    }
   },
   "source": [
    "## Treatment of experimental data (large series of images)\n",
    "\n",
    "- copy into the cluster disks, reorganization and format conversions\n",
    "- pretreatment of images png -> png (calcul on the cluster)\n",
    "- scientific treatment of images and other data (calcul on the cluters)\n",
    "- production of scientific images"
   ]
  },
  {
   "cell_type": "markdown",
   "metadata": {
    "deletable": true,
    "editable": true,
    "slideshow": {
     "slide_type": "slide"
    }
   },
   "source": [
    "## Issues: how to write reusable code? Open-science? Open-source?\n",
    "\n",
    "- software carpentry\n",
    "- good coding, documentation, unittests\n",
    "- specialized code for scientific communities\n",
    "\n",
    "Only the very beginning of this trend in fluid mechanics."
   ]
  },
  {
   "cell_type": "markdown",
   "metadata": {
    "deletable": true,
    "editable": true,
    "slideshow": {
     "slide_type": "slide"
    }
   },
   "source": [
    "## FluidDyn project: a suite of Python packages for fluid dynamics\n",
    "\n",
    "Open-source, documented and tested\n",
    "\n",
    "- [fluiddyn](https://bitbucket.org/fluiddyn/fluiddyn): base package containing utilities\n",
    "- [fluidlab](https://bitbucket.org/fluiddyn/fluidlab): control of laboratory experiments\n",
    "- [fluidimage](https://bitbucket.org/fluiddyn/fluidimage): scientific treatments of images (PIV)\n",
    "- [fluidfft](https://bitbucket.org/fluiddyn/fluidfft)\n",
    "- [fluidsim](https://bitbucket.org/fluiddyn/fluidsim)\n",
    "- [fluidfoam](https://bitbucket.org/fluiddyn/fluidfoam)"
   ]
  },
  {
   "cell_type": "markdown",
   "metadata": {
    "slideshow": {
     "slide_type": "slide"
    }
   },
   "source": [
    "## Calcul of scanned PIV on the LEGI cluster\n",
    "\n",
    "Embarrassingly parallel\n",
    "\n",
    "Steps:\n",
    "- calibration (using UVmat),\n",
    "- pre-processing of images,\n",
    "- calcul of PIV for the different levels,\n",
    "- going into real space and reorganization of the data.\n",
    "\n",
    "Remarks: done with clever scripts which adapt the parameters to the experiments and levels.\n",
    "\n",
    "Remarks: very demanding in terms of Input/Output."
   ]
  },
  {
   "cell_type": "markdown",
   "metadata": {
    "slideshow": {
     "slide_type": "slide"
    }
   },
   "source": [
    "## Analysis and production of scientific figures\n",
    "\n",
    "#### Mainly using Python (numpy, scipy and matplotlib).\n",
    "\n",
    "#### Classes for experiments and types of data (for example probe data or PIV field)."
   ]
  },
  {
   "cell_type": "code",
   "execution_count": 1,
   "metadata": {
    "collapsed": false
   },
   "outputs": [
    {
     "ename": "ImportError",
     "evalue": "No module named 'fluidcoriolis'",
     "output_type": "error",
     "traceback": [
      "\u001b[0;31m---------------------------------------------------------------------------\u001b[0m",
      "\u001b[0;31mImportError\u001b[0m                               Traceback (most recent call last)",
      "\u001b[0;32m<ipython-input-1-c8dcbc81f8c6>\u001b[0m in \u001b[0;36m<module>\u001b[0;34m()\u001b[0m\n\u001b[0;32m----> 1\u001b[0;31m \u001b[0;32mfrom\u001b[0m \u001b[0mfluidcoriolis\u001b[0m\u001b[0;34m.\u001b[0m\u001b[0mmilestone\u001b[0m \u001b[0;32mimport\u001b[0m \u001b[0mExperiment\u001b[0m\u001b[0;34m\u001b[0m\u001b[0m\n\u001b[0m",
      "\u001b[0;31mImportError\u001b[0m: No module named 'fluidcoriolis'"
     ]
    }
   ],
   "source": [
    "from fluidcoriolis.milestone import Experiment"
   ]
  }
 ],
 "metadata": {
  "celltoolbar": "Slideshow",
  "kernelspec": {
   "display_name": "Python 3",
   "language": "python",
   "name": "python3"
  },
  "language_info": {
   "codemirror_mode": {
    "name": "ipython",
    "version": 3
   },
   "file_extension": ".py",
   "mimetype": "text/x-python",
   "name": "python",
   "nbconvert_exporter": "python",
   "pygments_lexer": "ipython3",
   "version": "3.5.1"
  }
 },
 "nbformat": 4,
 "nbformat_minor": 2
}
