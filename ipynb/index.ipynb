{
 "cells": [
  {
   "cell_type": "markdown",
   "metadata": {},
   "source": [
    "## FluidDyn\n",
    "\n",
    " -   Official repo: [bitbucket.org/fluiddyn](https://bitbucket.org/fluiddyn)\n",
    " \n",
    " -   Development repo at KTH: [bitbucket.org/gfdyn](https://bitbucket.org/gfdyn)"
   ]
  },
  {
   "cell_type": "markdown",
   "metadata": {},
   "source": [
    "## Talks\n",
    "\n",
    "- Ph.D. summer meeting: [gfdyn.bitbucket.io/talks/phd_summer_seminar.slides.html](https://gfdyn.bitbucket.io/talks/phd_summer_seminar.slides.html?transition=fade)\n",
    "- AGU fall meeting: [gfdyn.bitbucket.io/talks/agu_fallmeeting2017.slides.html](https://gfdyn.bitbucket.io/talks/agu_fallmeeting2017.slides.html)\n",
    "- FLOW meeting: [gfdyn.bitbucket.io/talks/flowmeeting2018.slides.html](https://gfdyn.bitbucket.io/talks/flowmeeting2018.slides.html)\n",
    "- MISU seminar: [gfdyn.bitbucket.io/talks/misu_seminar2018.slides.html](https://gfdyn.bitbucket.io/talks/misu_seminar2018.slides.html)\n",
    "- Seminar 2019: [[HTML]](https://gfdyn.bitbucket.io/talks/seminar2019.slides.html) [[PDF]](https://gfdyn.bitbucket.io/talks/seminar2019.slides.pdf)\n",
    "- PyCon Sweden 2019: [[HTML]](https://cicero.xyz/v3/remark/0.14.0/github.com/ashwinvis/talks/master/pyconse2019/talk.md/#1)"
   ]
  }
 ],
 "metadata": {
  "kernelspec": {
   "display_name": "Python 2",
   "language": "python",
   "name": "python2"
  },
  "language_info": {
   "codemirror_mode": {
    "name": "ipython",
    "version": 2
   },
   "file_extension": ".py",
   "mimetype": "text/x-python",
   "name": "python",
   "nbconvert_exporter": "python",
   "pygments_lexer": "ipython2",
   "version": "2.7.15"
  }
 },
 "nbformat": 4,
 "nbformat_minor": 2
}
