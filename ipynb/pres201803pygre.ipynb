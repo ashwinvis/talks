{
 "cells": [
  {
   "cell_type": "code",
   "execution_count": 1,
   "metadata": {
    "collapsed": true,
    "slideshow": {
     "slide_type": "skip"
    }
   },
   "outputs": [],
   "source": [
    "# this ipython command loads a special backend for notebooks\n",
    "%matplotlib inline\n",
    "import matplotlib.pyplot as plt\n",
    "\n",
    "from IPython.core.display import display as display_base, HTML\n",
    "\n",
    "# https://stackoverflow.com/questions/21356014/how-can-i-insert-a-new-tag-into-a-beautifulsoup-object\n",
    "\n",
    "# https://github.com/lepture/mistune\n",
    "import mistune\n",
    "markdown = mistune.Markdown()\n",
    "\n",
    "def display(code):\n",
    "    return display_base(HTML(code))"
   ]
  },
  {
   "cell_type": "markdown",
   "metadata": {
    "slideshow": {
     "slide_type": "slide"
    }
   },
   "source": [
    "# Laboratory experiments in the Coriolis platform with Python"
   ]
  },
  {
   "cell_type": "raw",
   "metadata": {},
   "source": [
    "<div align=\"middle\">\n",
    "<img src=\"../lmfa20170908/fig/logo_CNRS.jpg\"  style=\"width: 10%\"> &nbsp; &nbsp;\n",
    "<img src=\"../lmfa20170908/fig/logo_LEGI.jpg\"  style=\"width: 15%\"> &nbsp; &nbsp;\n",
    "<img src=\"../lmfa20170908/fig/logo-uga-vo-cmjn.jpg\"  style=\"width: 15%\">\n",
    "</div>"
   ]
  },
  {
   "cell_type": "markdown",
   "metadata": {},
   "source": [
    "**Pierre Augier**, A. Vishnu (KTH), C. Bonamy, A. Campagne, J. Sommeria, S. Viboud, C. Bonamy, N. Mordant (ERC Watu)...\n",
    "\n",
    "<br />\n",
    "\n",
    "<center> Journée Python Sciences and Data in Grenoble, 8/03/2018 </center>\n",
    "\n",
    "<center> http://www.legi.grenoble-inp.fr/people/Pierre.Augier/python-science-data-grenoble-launching-day.html</center>"
   ]
  },
  {
   "cell_type": "markdown",
   "metadata": {
    "slideshow": {
     "slide_type": "slide"
    }
   },
   "source": [
    "<br />\n",
    "\n",
    "<div align=\"left\">\n",
    "<img src=\"tmp/tag_clouds.png\"  style=\"width: 90%\">\n",
    "</div>"
   ]
  },
  {
   "cell_type": "markdown",
   "metadata": {},
   "source": [
    "$\\newcommand{\\kk}{\\boldsymbol{k}}\n",
    "\\newcommand{\\eek}{\\boldsymbol{e}_\\boldsymbol{k}}\n",
    "\\newcommand{\\eeh}{\\boldsymbol{e}_\\boldsymbol{h}}\n",
    "\\newcommand{\\eez}{\\boldsymbol{e}_\\boldsymbol{z}}\n",
    "\\newcommand{\\cc}{\\boldsymbol{c}}\n",
    "\\newcommand{\\uu}{\\boldsymbol{u}}\n",
    "\\newcommand{\\vv}{\\boldsymbol{v}}\n",
    "\\newcommand{\\bnabla}{\\boldsymbol{\\nabla}}\n",
    "\\newcommand{\\Dt}{\\mbox{D}_t}\n",
    "\\newcommand{\\p}{\\partial}\n",
    "\\newcommand{\\R}{\\mathcal{R}}\n",
    "\\newcommand{\\eps}{\\varepsilon}\n",
    "\\newcommand{\\mean}[1]{\\langle #1 \\rangle}\n",
    "\\newcommand{\\epsK}{\\varepsilon_{\\!\\scriptscriptstyle K}}\n",
    "\\newcommand{\\epsA}{\\varepsilon_{\\!\\scriptscriptstyle A}}\n",
    "\\newcommand{\\epsP}{\\varepsilon_{\\!\\scriptscriptstyle P}}\n",
    "\\newcommand{\\epsm}{\\varepsilon_{\\!\\scriptscriptstyle m}}\n",
    "\\newcommand{\\CKA}{C_{K\\rightarrow A}}\n",
    "\\newcommand{\\D}{\\mbox{D}}$"
   ]
  },
  {
   "cell_type": "markdown",
   "metadata": {
    "slideshow": {
     "slide_type": "slide"
    }
   },
   "source": [
    "# Laboratoire des Ecoulements Géophysiques et Industriels\n",
    "\n",
    "## Geophysical fluid dynamics: atmosphere, oceans, lacs, rivers, ..."
   ]
  },
  {
   "cell_type": "code",
   "execution_count": 4,
   "metadata": {
    "source_hidden": 1
   },
   "outputs": [
    {
     "data": {
      "text/html": [
       "\n",
       "\n",
       "\n",
       "<div class='left' style='float:left;width:48%'>\n",
       "<ul>\n",
       "<li><p>Fluids: Navier-Stokes equations</p>\n",
       "<p>$\\p_t \\vv + \\vv\\cdot\\bnabla\\vv = - \\bnabla p + \\nu \\bnabla^2 \\vv,$</p>\n",
       "<p>plus rotation, density stratification, etc.</p>\n",
       "</li>\n",
       "<li><p>(anisotropic) turbulence</p>\n",
       "</li>\n",
       "<li><p>Tools and methods:</p>\n",
       "<ul>\n",
       "<li>theory</li>\n",
       "<li>simulations</li>\n",
       "<li>experiments</li>\n",
       "</ul>\n",
       "</li>\n",
       "</ul>\n",
       "\n",
       "</div>\n",
       "\n",
       "<div class='right' style='float:right;width:48%'>\n",
       "  <div align=\"middle\">\n",
       "    <img src=\"earth.png\" style=\"width: 70%;\">\n",
       "  </div>\n",
       "</div>\n",
       "\n"
      ],
      "text/plain": [
       "<IPython.core.display.HTML object>"
      ]
     },
     "metadata": {},
     "output_type": "display_data"
    }
   ],
   "source": [
    "m0 = markdown(r\"\"\"\n",
    "\n",
    "- Fluids: Navier-Stokes equations\n",
    "\n",
    "  $\\p_t \\vv + \\vv\\cdot\\bnabla\\vv = - \\bnabla p + \\nu \\bnabla^2 \\vv,$\n",
    "\n",
    "  plus rotation, density stratification, etc.\n",
    "  \n",
    "- (anisotropic) turbulence\n",
    "\n",
    "- Tools and methods:\n",
    "  * theory\n",
    "  * simulations\n",
    "  * experiments\n",
    "  \n",
    "\"\"\")\n",
    "\n",
    "code = f\"\"\"\n",
    "\n",
    "\n",
    "<div class='left' style='float:left;width:48%'>\n",
    "{m0}\n",
    "</div>\n",
    "\n",
    "<div class='right' style='float:right;width:48%'>\n",
    "  <div align=\"middle\">\n",
    "    <img src=\"earth.png\" style=\"width: 70%;\">\n",
    "  </div>\n",
    "</div>\n",
    "\n",
    "\"\"\"\n",
    "\n",
    "display(code)"
   ]
  },
  {
   "cell_type": "markdown",
   "metadata": {
    "slideshow": {
     "slide_type": "slide"
    }
   },
   "source": [
    "# FluidDyn project\n",
    "\n",
    "A project to *foster open-science and open-source in fluid mechanics*"
   ]
  },
  {
   "cell_type": "raw",
   "metadata": {
    "slideshow": {
     "slide_type": "-"
    }
   },
   "source": [
    "<div align=\"middle\">\n",
    "<img src=\"../../../images/logo-fluiddyn.jpg\" style=\"width: 35%; margin: 10px 0px;\"> &nbsp; &nbsp;\n",
    "<img src=\"https://www.python.org/static/opengraph-icon-200x200.png\" style=\"width: 20%; margin: -20px 0px;\">\n",
    "</div>"
   ]
  },
  {
   "cell_type": "markdown",
   "metadata": {
    "slideshow": {
     "slide_type": "-"
    }
   },
   "source": [
    "**A thesis:**\n",
    "\n",
    "- open-source never so strong,\n",
    "- new tools and methods allowing collective work,\n",
    "- possibility of collaborations on good quality research codes (not simple for scientists)."
   ]
  },
  {
   "cell_type": "markdown",
   "metadata": {
    "slideshow": {
     "slide_type": "slide"
    }
   },
   "source": [
    "# Some FluidDyn Python packages (1)\n",
    "\n",
    "### fluiddyn\n",
    "\n",
    "Pure-python code that can be reused in scripts or in specialized FluidDyn packages. Miscellaneous command-line utilities.\n",
    "\n",
    "### fluidfft\n",
    "\n",
    "C++ and Python classes useful to perform Fast Fourier Transform (FFT) in sequential and in parallel.\n",
    "\n",
    "### fluidsim\n",
    "\n",
    "Computational Fluid Dynamics (CFD) Python framework (mainly pseudo-spectral methods)."
   ]
  },
  {
   "cell_type": "markdown",
   "metadata": {
    "slideshow": {
     "slide_type": "slide"
    }
   },
   "source": [
    "# Some FluidDyn Python packages (2)\n",
    "\n",
    "### fluidlab\n",
    "\n",
    "For laboratory experiments. Communication with various hardware devices such as motors, sensors, pumps.\n",
    "\n",
    "### fluidimage\n",
    "\n",
    "Scalable image processing: calibrate cameras, preprocessing images, Particle Image Velocimetry (PIV) and processing of velocity fields.\n",
    "\n",
    "### fluidcoriolis\n",
    "\n",
    "Experiments in the Coriolis platform and Open Data.\n",
    "\n",
    "### fluidfoam\n",
    "\n",
    "Loading, plotting and processing of OpenFoam data."
   ]
  },
  {
   "cell_type": "markdown",
   "metadata": {
    "slideshow": {
     "slide_type": "slide"
    }
   },
   "source": [
    "# FluidDyn project\n",
    "  \n",
    "Examples for\n",
    " \n",
    "- **Good coding practice**: readable and understandable Python code \n",
    "  (PEP 8).\n",
    "- **Source control management** (Mercurial) and **forge** (Bitbucket) simple \n",
    "  for the new comers.\n",
    "- **Packaging** and **installation** procedures.\n",
    "- **Licenses**: depending on the packages, CeCILL-B or CeCILL licenses.\n",
    "- **Documentation sites** produced with the standard and up-to-date tools:   \n",
    "  Sphinx, Readthedocs, Anaconda and Jupyter. \n",
    "- **Unittest** and **continuous integration** with Bitbucket Pipeline and Travis.\n",
    "\n",
    "### Conditions for collaborative development!"
   ]
  },
  {
   "cell_type": "markdown",
   "metadata": {
    "slideshow": {
     "slide_type": "slide"
    }
   },
   "source": [
    "# Numerical simulations, pseudo-spectral methods\n",
    "\n",
    "- periodic: based on Fast Fourier Transforms\n",
    "- fast and very accurate\n",
    "\n",
    "<br />\n",
    "\n",
    "**Standard method:** Fortran codes\n",
    "\n",
    "- highly efficient (HPC)\n",
    "- monolythic, highly specialized (nearly one code per research group...)\n",
    "- not so user friendly\n",
    "\n",
    "<br />\n",
    "\n",
    "**FluidDyn Python packages:** fluidfft and fluidsim\n",
    "\n",
    "- versatile\n",
    "- user and developer friendly\n",
    "- efficient (HPC)\n"
   ]
  },
  {
   "cell_type": "markdown",
   "metadata": {
    "slideshow": {
     "slide_type": "slide"
    }
   },
   "source": [
    "# fluidfft\n",
    "\n",
    "### Fast Fourier Transform (FFT) in sequential and in parallel, with CPU and GPU.\n",
    "\n",
    "- Hierarchy of C++ classes to use different FFT libraries.\n",
    "\n",
    "- Cython wrappers of the C++ classes. Cython `.pyx` and `.pdx` files produced from template\n",
    "  files using the template library [mako](http://www.makotemplates.org/).\n",
    "\n",
    "- Python operators classes (2d and 3d) to write code independently of the\n",
    "  library used for the computation of the FFT.\n",
    "\n",
    "- Pythran to speedup critical code. Performance $\\simeq$ Fortran.\n",
    "\n",
    "- Commandline utilities (`fluidfft-bench` and `fluidfft-bench-analysis`).\n",
    "\n",
    "- Unittest !"
   ]
  },
  {
   "cell_type": "markdown",
   "metadata": {
    "slideshow": {
     "slide_type": "slide"
    }
   },
   "source": [
    "# fluidsim\n",
    "\n",
    "Python framework to run sequential and parallel (MPI) Computational Fluid Dynamics (CFD) simulations and on-the-fly processing for a variety of problems (Navier-Stokes, Shallow Water, Föppl von Kármán equations, ...).\n",
    "\n",
    "- highly modular, object-oriented structure (solver, state, time stepping, output, ...),\n",
    "\n",
    "- specialized in pseudo-spectral methods (based on fluidfft),\n",
    "\n",
    "- very user friendly,\n",
    "\n",
    "- very efficient (much faster than Dedalus, faster than SpectralDNS).\n"
   ]
  },
  {
   "cell_type": "raw",
   "metadata": {},
   "source": [
    "<center>\n",
    "  <iframe width=\"800\" height=\"350\" \n",
    "          src=\"https://www.youtube.com/embed/InA8hbF9ekQ?rel=0&version=3&loop=1&playlist=InA8hbF9ekQ\" \n",
    "          frameborder=\"0\" allow=\"autoplay; encrypted-media\" allowfullscreen>\n",
    "</iframe>\n",
    "</center>"
   ]
  },
  {
   "cell_type": "markdown",
   "metadata": {
    "slideshow": {
     "slide_type": "slide"
    }
   },
   "source": [
    "# Laboratory experiments with Python, the example of the Coriolis platform"
   ]
  },
  {
   "cell_type": "code",
   "execution_count": 3,
   "metadata": {
    "source_hidden": 1
   },
   "outputs": [
    {
     "data": {
      "text/html": [
       "\n",
       "  <div class='left' style='float:left; width:100%;'>\n",
       "    <div align=\"left\" style='position: relative;'>\n",
       "      <img src=\"../lmfa20170908/fig/coriolis2.jpg\"\n",
       "           style=\"height: 400px; margin-bottom: 1em;\"> \n",
       "      <div align=\"center\" style=\"position: absolute; top: 45%; right: 20%;\">\n",
       "        The Coriolis platform <br />(13 m diameter)\n",
       "      </div>\n",
       "    </div>\n",
       "  </div>\n",
       "\n",
       "  <div class='left' style='float:left;width:100%'>\n",
       "  <center>\n",
       "    Used by international researchers through European projects (Euhit, Hydralab).\n",
       "  </center>\n",
       "  </div>\n",
       "\n"
      ],
      "text/plain": [
       "<IPython.core.display.HTML object>"
      ]
     },
     "metadata": {},
     "output_type": "display_data"
    }
   ],
   "source": [
    "code = r\"\"\"\n",
    "  <div class='left' style='float:left; width:100%;'>\n",
    "    <div align=\"left\" style='position: relative;'>\n",
    "      <img src=\"../lmfa20170908/fig/coriolis2.jpg\"\n",
    "           style=\"height: 400px; margin-bottom: 1em;\"> \n",
    "      <div align=\"center\" style=\"position: absolute; top: 45%; right: 20%;\">\n",
    "        The Coriolis platform <br />(13 m diameter)\n",
    "      </div>\n",
    "    </div>\n",
    "  </div>\n",
    "\n",
    "  <div class='left' style='float:left;width:100%'>\n",
    "  <center>\n",
    "    Used by international researchers through European projects (Euhit, Hydralab).\n",
    "  </center>\n",
    "  </div>\n",
    "\n",
    "\"\"\"\n",
    "\n",
    "display(code)"
   ]
  },
  {
   "cell_type": "markdown",
   "metadata": {
    "slideshow": {
     "slide_type": "subslide"
    }
   },
   "source": [
    "# The MILESTONE experiment"
   ]
  },
  {
   "cell_type": "code",
   "execution_count": 6,
   "metadata": {
    "source_hidden": 1
   },
   "outputs": [
    {
     "data": {
      "text/html": [
       "\n",
       "<div class=\"fragment fade-out\" data-fragment-index=\"0\" style='float:left;width:100%'>\n",
       "  <h2 style=\"margin-bottom: 0.5em;margin-top: 0em;\">\n",
       "    Stratified and rotating turbulence in the Coriolis platform\n",
       "  </h2>\n",
       "\n",
       "  <div class='middle' style='float:middle;width:100%'>\n",
       "    <div align=\"middle\">\n",
       "      <img src=\"../lmfa20170908/fig/fig_scheme_milestone.jpg\"  style=\"height:370px;\">\n",
       "    </div>\n",
       "  </div>\n",
       "\n",
       "  <div class='left' style='float:left;width:100%'>\n",
       "  \n",
       "  <h4 style=\"margin-top: 0.8em;\"> 2 sets of experiments </h4>\n",
       "\n",
       "<ul>\n",
       "<li><p>Summer 2016 (a collaboration between KTH, Stockholm, Sweden and LEGI).</p>\n",
       "</li>\n",
       "<li><p>Summer 2017: focused on mixing without rotation</p>\n",
       "</li>\n",
       "</ul>\n",
       "\n",
       "  </div>\n",
       "</div>\n",
       "\n",
       "<div class=\"fragment current-visible\" data-fragment-index=\"0\" style='float:left;width:100%'>\n",
       "  <div align=\"middle\"> \n",
       "    <img src=\"../lmfa20170908/fig/scheme_exp_grid_MILESTONE_Euhit.png\"  style=\"height: 600px; margin-bottom: 0.6em;\">\n",
       "    Top view (MILESTONE 2016)\n",
       "  </div>\n",
       "</div>\n",
       "\n",
       "<div class=\"fragment current-visible\" data-fragment-index=\"1\" style='float:left;width:100%'>\n",
       "  <h3 style=\"margin-bottom: 0.6em; margin-top: 0.2em;\">\n",
       "    A new carriage for the Coriolis plateform\n",
       "  </h3>\n",
       "\n",
       "  <div class='left' style='float:left;width:48%'>\n",
       "    <div align=\"middle\">\n",
       "      <img src=\"../lmfa20170908/fig/milestone16_carriage.jpg\"  style=\"height:370px;\">\n",
       "    </div>\n",
       "  </div>\n",
       "\n",
       "  <div class='right' style='float:right;width:48%'>\n",
       "    <!-- ffmpeg -i input.mov -ss 0 -t 10 -b:v 1000k output.mp4 -->\n",
       "    <video align=\"middle\" height=\"370px\" controls loop muted>\n",
       "      <source src=\"../lmfa20170908/video/moving_carriage.mp4\" type=\"video/mp4\">\n",
       "      Your browser does not support the video tag.\n",
       "    </video>\n",
       "  </div>\n",
       "  \n",
       "<ul>\n",
       "<li>3 m $\\times$ 1 m</li>\n",
       "<li>runs on tracks (13 m long)</li>\n",
       "<li>good control in position ($\\Delta x&lt;$ 5 mm) and in speed ($U&lt; 25$ cm/s)</li>\n",
       "</ul>\n",
       "  \n",
       "  \n",
       "</div>\n",
       "\n",
       "<div class=\"fragment current-visible\" style='float:left;width:100%'>\n",
       "  <h3 style=\"margin-bottom: 0.6em; margin-top: 0.2em;\">\n",
       "    Measurements: PIV and probes (density, temperature)\n",
       "  </h3>\n",
       "\n",
       "  <div class='left' style='float:left;width:100%'>\n",
       "  <div class='left' style='float:left;width:35%'>\n",
       "    <center>\n",
       "      <video height=\"350\" controls loop muted>\n",
       "        <source src=\"../lmfa20170908/video/scanning_piv.mp4\" type=\"video/mp4\">\n",
       "        Your browser does not support the video tag.\n",
       "      </video>\n",
       "    </center>\n",
       "  </div>\n",
       "  scanning PIV\n",
       "  <div class='right' style='float:right;width:48%'>\n",
       "    <div align=\"middle\">\n",
       "      <img src=\"../lmfa20170908/fig/milestone_particles_long_expo.jpg\" style=\"height:350px; margin: 20px 0px;\">\n",
       "    </div>\n",
       "  </div>\n",
       "\n",
       "  </div>\n",
       "\n",
       "  <div class='left' style='float:left;width:100%'>\n",
       "  <div class='left' style='float:left;width:38%'>\n",
       "    <div align=\"middle\"> <img src=\"../lmfa20170908/fig/fig_scheme_milestone.jpg\"  style=\"height: 350px\"> </div>\n",
       "  </div>\n",
       "  probes on traverses\n",
       "  <div class='right' style='float:right;width:20%'>\n",
       "    <center>\n",
       "      <video height=\"350\" controls loop muted>\n",
       "        <source src=\"../lmfa20170908/video/moving_traverse.mp4\" type=\"video/mp4\">\n",
       "        Your browser does not support the video tag.\n",
       "      </video>\n",
       "    </center>\n",
       "  </div>\n",
       "  </div>\n",
       "\n",
       "</div>\n",
       "\n"
      ],
      "text/plain": [
       "<IPython.core.display.HTML object>"
      ]
     },
     "metadata": {},
     "output_type": "display_data"
    }
   ],
   "source": [
    "code = \"\"\"\n",
    "<div class=\"fragment fade-out\" data-fragment-index=\"0\" style='float:left;width:100%'>\n",
    "  <h2 style=\"margin-bottom: 0.5em;margin-top: 0em;\">\n",
    "    Stratified and rotating turbulence in the Coriolis platform\n",
    "  </h2>\n",
    "\n",
    "  <div class='middle' style='float:middle;width:100%'>\n",
    "    <div align=\"middle\">\n",
    "      <img src=\"../lmfa20170908/fig/fig_scheme_milestone.jpg\"  style=\"height:370px;\">\n",
    "    </div>\n",
    "  </div>\n",
    "\n",
    "  <div class='left' style='float:left;width:100%'>\n",
    "  \n",
    "  <h4 style=\"margin-top: 0.8em;\"> 2 sets of experiments </h4>\n",
    "\n",
    "\"\"\" + markdown(r\"\"\"\n",
    "- Summer 2016 (a collaboration between KTH, Stockholm, Sweden and LEGI). \n",
    "\n",
    "- Summer 2017: focused on mixing without rotation\n",
    "\n",
    "\"\"\") + r\"\"\"\n",
    "  </div>\n",
    "</div>\n",
    "\n",
    "<div class=\"fragment current-visible\" data-fragment-index=\"0\" style='float:left;width:100%'>\n",
    "  <div align=\"middle\"> \n",
    "    <img src=\"../lmfa20170908/fig/scheme_exp_grid_MILESTONE_Euhit.png\"  style=\"height: 600px; margin-bottom: 0.6em;\">\n",
    "    Top view (MILESTONE 2016)\n",
    "  </div>\n",
    "</div>\n",
    "\n",
    "<div class=\"fragment current-visible\" data-fragment-index=\"1\" style='float:left;width:100%'>\n",
    "  <h3 style=\"margin-bottom: 0.6em; margin-top: 0.2em;\">\n",
    "    A new carriage for the Coriolis plateform\n",
    "  </h3>\n",
    "\n",
    "  <div class='left' style='float:left;width:48%'>\n",
    "    <div align=\"middle\">\n",
    "      <img src=\"../lmfa20170908/fig/milestone16_carriage.jpg\"  style=\"height:370px;\">\n",
    "    </div>\n",
    "  </div>\n",
    "\n",
    "  <div class='right' style='float:right;width:48%'>\n",
    "    <!-- ffmpeg -i input.mov -ss 0 -t 10 -b:v 1000k output.mp4 -->\n",
    "    <video align=\"middle\" height=\"370px\" controls loop muted>\n",
    "      <source src=\"../lmfa20170908/video/moving_carriage.mp4\" type=\"video/mp4\">\n",
    "      Your browser does not support the video tag.\n",
    "    </video>\n",
    "  </div>\n",
    "  \n",
    "\"\"\" + markdown(r\"\"\"\n",
    "- 3 m $\\times$ 1 m\n",
    "- runs on tracks (13 m long)\n",
    "- good control in position ($\\Delta x<$ 5 mm) and in speed ($U< 25$ cm/s)\n",
    "\"\"\") + r\"\"\"  \n",
    "  \n",
    "</div>\n",
    "\n",
    "<div class=\"fragment current-visible\" style='float:left;width:100%'>\n",
    "  <h3 style=\"margin-bottom: 0.6em; margin-top: 0.2em;\">\n",
    "    Measurements: PIV and probes (density, temperature)\n",
    "  </h3>\n",
    "\n",
    "  <div class='left' style='float:left;width:100%'>\n",
    "  <div class='left' style='float:left;width:35%'>\n",
    "    <center>\n",
    "      <video height=\"350\" controls loop muted>\n",
    "        <source src=\"../lmfa20170908/video/scanning_piv.mp4\" type=\"video/mp4\">\n",
    "        Your browser does not support the video tag.\n",
    "      </video>\n",
    "    </center>\n",
    "  </div>\n",
    "  scanning PIV\n",
    "  <div class='right' style='float:right;width:48%'>\n",
    "    <div align=\"middle\">\n",
    "      <img src=\"../lmfa20170908/fig/milestone_particles_long_expo.jpg\" style=\"height:350px; margin: 20px 0px;\">\n",
    "    </div>\n",
    "  </div>\n",
    "\n",
    "  </div>\n",
    "\n",
    "  <div class='left' style='float:left;width:100%'>\n",
    "  <div class='left' style='float:left;width:38%'>\n",
    "    <div align=\"middle\"> <img src=\"../lmfa20170908/fig/fig_scheme_milestone.jpg\"  style=\"height: 350px\"> </div>\n",
    "  </div>\n",
    "  probes on traverses\n",
    "  <div class='right' style='float:right;width:20%'>\n",
    "    <center>\n",
    "      <video height=\"350\" controls loop muted>\n",
    "        <source src=\"../lmfa20170908/video/moving_traverse.mp4\" type=\"video/mp4\">\n",
    "        Your browser does not support the video tag.\n",
    "      </video>\n",
    "    </center>\n",
    "  </div>\n",
    "  </div>\n",
    "\n",
    "</div>\n",
    "\n",
    "\"\"\"\n",
    "\n",
    "display(code)"
   ]
  },
  {
   "cell_type": "markdown",
   "metadata": {
    "slideshow": {
     "slide_type": "slide"
    }
   },
   "source": [
    "# Using computers for laboratory experiments\n",
    "\n",
    "- Many drivers, libraries and software only for Windows\n",
    "- Labview and Matlab\n",
    "\n",
    "### Using Python and open-source solutions\n",
    "\n",
    "- A community of hackers!\n",
    "\n",
    "- Python packages for\n",
    "  * communication protocols: pyserial, [pyvisa](https://pyvisa.readthedocs.io), modbus, ...\n",
    "  * library wrappers: pydaqnx for NI boards, ...\n",
    "  * GUI: matplotlib, PyQt, Qtgraph, ...\n",
    "  * microservices: rpyc, xmlrcp, ...\n",
    "  \n",
    "- async, await and asyncio for asynchronous input/output (see [asyncio in autolib's car](https://youtu.be/8kG54Z9h1FU))\n",
    "  \n",
    "- Arduino, [Micropython](https://micropython.org/) for microcontrollers, Raspberry Pi\n",
    "\n",
    "- Python friendly companies (Labjack for acquisition boards, ...)\n",
    "\n",
    "- Python packages for experiments (control instruments, ...): [fluidlab](http://fluidlab.readthedocs.io), [lantz](http://lantz.readthedocs.io), [place](https://github.com/PALab/place)\n",
    "\n",
    "See also this presentation on [Factory Automation with Python](https://youtu.be/cEyVfiix1Lw)..."
   ]
  },
  {
   "cell_type": "markdown",
   "metadata": {
    "slideshow": {
     "slide_type": "slide"
    }
   },
   "source": [
    "# Example of the carriage in the Coriolis platform\n",
    "\n",
    "### Equipment\n",
    "\n",
    "- Motor and its servo drive Lexium LXM32 (Schneider Electric)\n",
    "- Position sensor: quadrature signal via an acquisition board LabJack U3-HV \n",
    "\n",
    "### Software solutions (in [fluidlab](http://fluidlab.readthedocs.io) and fluidcoriolis)\n",
    "\n",
    "- For the LXM32: \n",
    "  * communication modbus TCP (pymodbus)\n",
    "  * I/O-Scanning (regular ping pong between LXM32 and the computer) \n",
    "- 3 servers with rpyc (motor, position sensor and carriage)\n",
    "- control of the carriage via Ipython\n",
    "- GUI (using a carriage client) with PyQt (made with qtdesigner)\n",
    "\n",
    "<div align=\"middle\"> <img src=\"../lmfa20170908/fig/gui_carriage.jpg\"  style=\"width: 45%\"> </div>"
   ]
  },
  {
   "cell_type": "markdown",
   "metadata": {
    "slideshow": {
     "slide_type": "slide"
    }
   },
   "source": [
    "# Example of the 3D-2C PIV in the Coriolis platform\n",
    "\n",
    "PIV: Particle Image Velocimetry\n",
    "\n",
    "### Equipment\n",
    "\n",
    "- Labjack T7 acquisition board\n",
    "- Oscillating mirror\n",
    "- Powerfull laser\n",
    "- Cameras\n",
    "\n",
    "### Software solutions\n",
    "\n",
    "- Simple functions to control the mirror and trigger the cameras via the T7 board (in [fluidlab](http://fluidlab.readthedocs.io)).\n",
    "\n",
    "- PIV processing with [fluidimage](http://fluidimage.readthedocs.io)"
   ]
  },
  {
   "cell_type": "markdown",
   "metadata": {
    "slideshow": {
     "slide_type": "slide"
    }
   },
   "source": [
    "# [fluidimage](https://bitbucket.org/fluiddyn/fluidimage): scientific processing of images\n",
    "\n",
    "Many images (~ 20 To of raw data): embarrassingly parallel problem\n",
    "\n",
    "- Open-source\n",
    "- Clusters and PC, with CPU and/or GPU\n",
    "- **Asynchronous** computations \n",
    "  * **topologies** of tasks\n",
    "  * IO and CPU bounded tasks are splitted\n",
    "\n",
    "- Efficient algorithms and tools for fast computation with Python (Pythran, Theano, Pycuda, ...)\n",
    "\n",
    "- Images preprocessing\n",
    "\n",
    "- 2D PIV, scanning PIV, stereo PIV, BOS\n",
    "\n",
    "- Utilities to display and analyze the PIV fields\n",
    "\n",
    "  * Plots of PIV fields (similar to PivMat) \n",
    "  * Calcul of spectra, anisotropic structure functions, characteristic \n",
    "  turbulent length scales\n",
    "\n",
    "<br />\n",
    "\n",
    "Remark: highly inspired by PivMat (F. Moisy) and UVmat (J. Sommeria), that we continue to use, in particular for calibration"
   ]
  },
  {
   "cell_type": "markdown",
   "metadata": {
    "slideshow": {
     "slide_type": "subslide"
    }
   },
   "source": [
    "# Calcul of scanning PIV on the LEGI cluster\n",
    "\n",
    "Example of scripts to launch a PIV computation:\n",
    "\n",
    "<br />\n",
    "\n",
    "```python\n",
    "\n",
    "from fluidimage.topologies.piv import TopologyPIV\n",
    "\n",
    "params = TopologyPIV.create_default_params()\n",
    "\n",
    "params.series.path = '../../image_samples/Karman/Images'\n",
    "params.series.ind_start = 1\n",
    "params.piv0.shape_crop_im0 = 32\n",
    "params.multipass.number = 2\n",
    "params.multipass.use_tps = True\n",
    "# params.saving.how has to be equal to 'complete' for idempotent jobs\n",
    "# (on clusters)\n",
    "params.saving.how = 'complete'\n",
    "params.saving.postfix = 'piv_complete'\n",
    "\n",
    "topology = TopologyPIV(params, logging_level='info')\n",
    "topology.compute()\n",
    "```"
   ]
  },
  {
   "cell_type": "markdown",
   "metadata": {
    "slideshow": {
     "slide_type": "subslide"
    }
   },
   "source": [
    "# Calcul of scanning PIV on the LEGI cluster\n",
    "\n",
    "Remark: launching computations on cluster is highly simplified by using fluiddyn:\n",
    "\n",
    "<br />\n",
    "\n",
    "```python\n",
    "from fluiddyn.clusters.legi import Calcul7 as Cluster\n",
    "\n",
    "cluster = Cluster()\n",
    "\n",
    "cluster.submit_script(\n",
    "    'piv_complete.py', name_run='fluidimage',\n",
    "    nb_cores_per_node=8,\n",
    "    walltime='3:00:00',\n",
    "    omp_num_threads=1,\n",
    "    idempotent=True, delay_signal_walltime=300)\n",
    "```\n",
    "\n",
    "<br />\n",
    "\n",
    "On another cluster, for example Froggy (Ciment, GRICAD), change the first line as:\n",
    "\n",
    "```python\n",
    "from fluiddyn.clusters.ciment import Froggy\n",
    "```\n",
    "\n",
    "\n"
   ]
  },
  {
   "cell_type": "markdown",
   "metadata": {
    "slideshow": {
     "slide_type": "slide"
    }
   },
   "source": [
    "# Analysis, production of scientific figures, Open-Data\n",
    "\n",
    "- For one experiments, a lot of different files for different types of data (txt and hdf5 files)\n",
    "- Classes for experiments and types of data (for example probe data or PIV field)."
   ]
  },
  {
   "cell_type": "code",
   "execution_count": 4,
   "metadata": {},
   "outputs": [
    {
     "data": {
      "text/plain": [
       "'Exp21_2017-07-11_D0.5_N0.55_U0.12'"
      ]
     },
     "execution_count": 4,
     "metadata": {},
     "output_type": "execute_result"
    }
   ],
   "source": [
    "from fluidcoriolis.milestone17 import Experiment as Experiment17\n",
    "iexp = 21\n",
    "exp = Experiment17(iexp)\n",
    "exp.name"
   ]
  },
  {
   "cell_type": "code",
   "execution_count": 5,
   "metadata": {},
   "outputs": [
    {
     "name": "stdout",
     "output_type": "stream",
     "text": [
      "N = 0.55 rad/s and Uc = 0.12 m/s\n"
     ]
    }
   ],
   "source": [
    "print(f'N = {exp.N} rad/s and Uc = {exp.Uc} m/s')"
   ]
  },
  {
   "cell_type": "code",
   "execution_count": 6,
   "metadata": {},
   "outputs": [
    {
     "name": "stdout",
     "output_type": "stream",
     "text": [
      "Rc = 11425 and Fh = 0.44\n"
     ]
    }
   ],
   "source": [
    "print(f'Rc = {exp.Rc:.0f} and Fh = {exp.Fhc:.2f}')"
   ]
  },
  {
   "cell_type": "code",
   "execution_count": 7,
   "metadata": {},
   "outputs": [
    {
     "name": "stdout",
     "output_type": "stream",
     "text": [
      "3 periods of 125.0 s\n"
     ]
    }
   ],
   "source": [
    "print(f'{exp.nb_periods} periods of {exp.period} s')"
   ]
  },
  {
   "cell_type": "code",
   "execution_count": 8,
   "metadata": {},
   "outputs": [
    {
     "name": "stdout",
     "output_type": "stream",
     "text": [
      "5 levels for the scanning PIV\n"
     ]
    }
   ],
   "source": [
    "print(f'{exp.nb_levels} levels for the scanning PIV')"
   ]
  },
  {
   "cell_type": "markdown",
   "metadata": {
    "slideshow": {
     "slide_type": "subslide"
    }
   },
   "source": [
    "# Studying and plotting PIV data"
   ]
  },
  {
   "cell_type": "code",
   "execution_count": 9,
   "metadata": {
    "collapsed": true
   },
   "outputs": [],
   "source": [
    "from fluidcoriolis.milestone import Experiment\n",
    "exp = Experiment(73)"
   ]
  },
  {
   "cell_type": "code",
   "execution_count": 10,
   "metadata": {
    "collapsed": true
   },
   "outputs": [],
   "source": [
    "cam = 'PCO_top'  # MILESTONE16\n",
    "pack = exp.get_piv_pack(camera=cam)"
   ]
  },
  {
   "cell_type": "code",
   "execution_count": 11,
   "metadata": {},
   "outputs": [
    {
     "name": "stdout",
     "output_type": "stream",
     "text": [
      "/home/pierre/16MILESTONE/Data_light/PCO_top/Exp73_2016-07-13_N0.8_L6.0_V0.16_piv3d/v_exp73_t080.h5\n"
     ]
    }
   ],
   "source": [
    "piv_fields = pack.get_piv_array_toverT(i_toverT=80)"
   ]
  },
  {
   "cell_type": "code",
   "execution_count": 12,
   "metadata": {
    "collapsed": true
   },
   "outputs": [],
   "source": [
    "piv_fields = piv_fields.gaussian_filter(0.5).truncate(2)"
   ]
  },
  {
   "cell_type": "code",
   "execution_count": 13,
   "metadata": {
    "scrolled": true,
    "slideshow": {
     "slide_type": "subslide"
    }
   },
   "outputs": [
    {
     "data": {
      "image/png": "[encoded data removed]",
      "text/plain": [
       "<matplotlib.figure.Figure at 0x7f9b98685588>"
      ]
     },
     "metadata": {},
     "output_type": "display_data"
    }
   ],
   "source": [
    "piv = pack.get_piv2d(ind_time=10, level=1)\n",
    "piv = piv.gaussian_filter(0.5).truncate(2)\n",
    "piv.display()\n",
    "_ = plt.xlim([-1.7, 0.5])\n",
    "_ = plt.ylim([-1.3, 1.3])"
   ]
  },
  {
   "cell_type": "markdown",
   "metadata": {
    "slideshow": {
     "slide_type": "slide"
    }
   },
   "source": [
    "# Conclusions\n",
    "\n",
    "- We can do several things with Python\n",
    "\n",
    "- Even studying fluid dynamics"
   ]
  },
  {
   "cell_type": "raw",
   "metadata": {
    "slideshow": {
     "slide_type": "-"
    }
   },
   "source": [
    "<div align=\"middle\">\n",
    "<img src=\"../../../images/logo-fluiddyn.jpg\" style=\"width: 35%; margin: 10px 0px;\"> &nbsp; &nbsp;\n",
    "<img src=\"https://www.python.org/static/opengraph-icon-200x200.png\" style=\"width: 20%; margin: -20px 0px;\">\n",
    "</div>"
   ]
  },
  {
   "cell_type": "markdown",
   "metadata": {},
   "source": [
    "<br />\n",
    "\n",
    "**8 March: International Women Day...** And for PySciDataGre ?"
   ]
  }
 ],
 "metadata": {
  "kernelspec": {
   "display_name": "Python 3",
   "language": "python",
   "name": "python3"
  },
  "language_info": {
   "codemirror_mode": {
    "name": "ipython",
    "version": 3
   },
   "file_extension": ".py",
   "mimetype": "text/x-python",
   "name": "python",
   "nbconvert_exporter": "python",
   "pygments_lexer": "ipython3",
   "version": "3.7.2"
  }
 },
 "nbformat": 4,
 "nbformat_minor": 2
}
