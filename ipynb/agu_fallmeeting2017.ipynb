{
 "cells": [
  {
   "cell_type": "code",
   "execution_count": 6,
   "metadata": {
    "slideshow": {
     "slide_type": "skip"
    }
   },
   "outputs": [
    {
     "data": {
      "text/html": [
       "<link rel=\"stylesheet\" type=\"text/css\" href=\"../agu_fallmeeting2017.css\">"
      ],
      "text/plain": [
       "<IPython.core.display.HTML object>"
      ]
     },
     "metadata": {},
     "output_type": "display_data"
    }
   ],
   "source": [
    "%%html\n",
    "<link rel=\"stylesheet\" type=\"text/css\" href=\"../agu_fallmeeting2017.css\">"
   ]
  },
  {
   "cell_type": "markdown",
   "metadata": {
    "slideshow": {
     "slide_type": "slide"
    }
   },
   "source": [
    "<br/><br/><br/><br/>\n",
    "\n",
    "# Modifying shallow-water equations as a model for wave-vortex turbulence\n",
    "\n",
    "#### Ashwin Vishnu Mohanan\\*, Pierre Augier^, Erik Lindborg\\*\n",
    "\n",
    "<small>* Linne Flow Center, Department of Mechanics, KTH, Stockholm, Sweden</small><br/>\n",
    "<small>^ LEGI / CNRS, Université Grenoble Alpes, Grenoble, France</small>\n",
    "\n"
   ]
  },
  {
   "cell_type": "raw",
   "metadata": {
    "slideshow": {
     "slide_type": "-"
    }
   },
   "source": [
    "<div align=\"right\">\n",
    "<img src=\"./fig/logo_FLOW.png\"  style=\"width: 7%\"/> &nbsp; &nbsp;\n",
    "<img src=\"./fig/logo_KTH.png\"  style=\"width: 5%\"/>\n",
    "</div>\n",
    "\n",
    "<div align=\"right\">\n",
    "<font color=\"gray\">\n",
    "<small>\n",
    "11 December 2017 (17:21 - 17:34 hrs), AGU Fall Meeting 2017 <br/>\n",
    "NG14A-07, New Orleans Ernest N. Morial Convention Center; 238-239\n",
    "</small>\n",
    "</font>\n",
    "</div>"
   ]
  },
  {
   "cell_type": "markdown",
   "metadata": {
    "collapsed": true,
    "slideshow": {
     "slide_type": "slide"
    }
   },
   "source": [
    "## Related research"
   ]
  },
  {
   "cell_type": "markdown",
   "metadata": {
    "collapsed": true,
    "slideshow": {
     "slide_type": "fragment"
    }
   },
   "source": [
    "\n",
    " 1. **Augier, P., Mohanan A.V. & Lindborg, E.** *Wave energy cascade in forced-dissipative one-layer shallow-water flows.* **J. Fluid Mech. (submitted)**.\n",
    "\n",
    " 1. **Lindborg, E. & Mohanan, A. V.** *A two-dimensional toy model for geophysical turbulence.* **Phys. Fluids (2017)**.\n",
    "\n",
    "Selected as featured research by AIP (Nov 22, 2017)"
   ]
  },
  {
   "cell_type": "raw",
   "metadata": {
    "slideshow": {
     "slide_type": "-"
    }
   },
   "source": [
    "<div>\n",
    "<img src=\"./fig/agu_screen_scilight.png\" alt=\"Drawing\" style=\"width: 60%; display: block; margin: auto;\"/>\n",
    "</div>"
   ]
  },
  {
   "cell_type": "raw",
   "metadata": {
    "slideshow": {
     "slide_type": "skip"
    }
   },
   "source": [
    "<div>\n",
    "<img src=\"./fig/agu_screen_phf.png\" alt=\"Drawing\" style=\"width: 40%;\" align=\"right\"/>\n",
    "</div>\n",
    "<div>\n",
    "<img src=\"./fig/agu_screen_sci.png\" alt=\"Drawing\" style=\"width: 40%;\" align=\"right\"/>\n",
    "</div>"
   ]
  },
  {
   "cell_type": "markdown",
   "metadata": {
    "slideshow": {
     "slide_type": "slide"
    }
   },
   "source": [
    "## 1. Background\n",
    "#### 1.1. Atmospheric energy spectra from aircraft data: Nastrom and Gage (1985)\n",
    "<div  align=\"center\">\n",
    "<img src=\"./fig/agu_nastrom.png\" alt=\"Nastrom and Gage\" style=\"width: 50%;\"/>\n",
    "</div>\n",
    "\n",
    "* Synoptic scale spectra ($\\lambda > 1000$ km) ~  $k^{3}$\n",
    "* Mesoscale spectra ($\\lambda = 1$ to $500$ km) ~ $k^{-5/3}$"
   ]
  },
  {
   "cell_type": "markdown",
   "metadata": {
    "slideshow": {
     "slide_type": "slide"
    }
   },
   "source": [
    "## 1. Background\n",
    "#### 1.1. Possible explanations for the mesoscale energy  $k^{-5/3}$ spectra\n"
   ]
  },
  {
   "cell_type": "markdown",
   "metadata": {
    "slideshow": {
     "slide_type": "notes"
    }
   },
   "source": [
    "* **R.H. Kraichnan (1967)**:\n",
    "    - Inverse energy cascade: $E(k) \\sim k^{-5/3}$ \n",
    "    - Forward enstrophy cascade: $E(k) \\sim k^{-3}$\n"
   ]
  },
  {
   "cell_type": "markdown",
   "metadata": {
    "slideshow": {
     "slide_type": "fragment"
    }
   },
   "source": [
    "* **Gage (1979) & Lilly (1983)**: *inverse energy cascade* as in **Kraichnan (1967)**\n",
    "\n",
    "* **Dewan (1979)**:*downscale cascade* as in **Kolmogorov (1941)**"
   ]
  },
  {
   "cell_type": "markdown",
   "metadata": {
    "slideshow": {
     "slide_type": "fragment"
    }
   },
   "source": [
    "###### 1.1.1 Theoretical predictions\n",
    "* **Lindborg (2006)** and **Waite & Bartello (2004)**: Stratified turbulence result in thin elongated structures. Vertical length scale $ l_v < l_b = u/N \\approx 1 km$ "
   ]
  },
  {
   "cell_type": "markdown",
   "metadata": {
    "slideshow": {
     "slide_type": "fragment"
    }
   },
   "source": [
    "* **Callies, Bühler and Ferrari (2016)**: Inertia gravity waves, with frequency $\\omega \\approx f$. i.e. $l_v \\approx$ few metres."
   ]
  },
  {
   "cell_type": "markdown",
   "metadata": {
    "slideshow": {
     "slide_type": "fragment"
    }
   },
   "source": [
    "**Vertical resolution?**"
   ]
  },
  {
   "cell_type": "markdown",
   "metadata": {
    "slideshow": {
     "slide_type": "slide"
    }
   },
   "source": [
    "## 1. Background\n",
    "#### 1.3. Results from GCM\n"
   ]
  },
  {
   "cell_type": "markdown",
   "metadata": {
    "slideshow": {
     "slide_type": "-"
    }
   },
   "source": [
    " * **Augier & Lindborg (2013)**: GCMs such as **AFES** and **MPAS** model can simulate mesoscale energy cascade with coarse vertical resolution: 24 levels!\n"
   ]
  },
  {
   "cell_type": "raw",
   "metadata": {
    "slideshow": {
     "slide_type": "-"
    }
   },
   "source": [
    "<div align=\"right\">\n",
    "<img src=\"./fig/agu_afes.png\" alt=\"Drawing\" style=\"width: 45%;\" /> &nbsp;\n",
    "<img src=\"./fig/agu_gcm_flux.png\" alt=\"Drawing\" style=\"width: 45%;\"/>\n",
    "</div>"
   ]
  },
  {
   "cell_type": "markdown",
   "metadata": {
    "slideshow": {
     "slide_type": "slide"
    }
   },
   "source": [
    "## 1. Background\n",
    "#### 1.4. Results from GCM\n",
    "\n",
    "#### Questions\n",
    "\n",
    "* Minimum number of levels required to reproduce $k^{-5/3}$ spectra?\n",
    "\n",
    "* Single level model enough? **1-layer Shallow-water equation?**\n"
   ]
  },
  {
   "cell_type": "markdown",
   "metadata": {
    "slideshow": {
     "slide_type": "slide"
    }
   },
   "source": [
    "## 2. Quest for the simplest model\n",
    "\n",
    "##### Why shallow-water equations?\n",
    "$$\\frac{\\partial {\\bf u}} {\\partial t} + {\\bf u}\\cdot \\nabla{\\bf u} +  f {\\bf e}_z \\times {\\bf u} = -c^2 \\nabla \\eta $$\n",
    "$$\\frac{\\partial \\eta}{\\partial t}+ {\\bf u} \\cdot \\nabla \\eta   = - (1+\\eta) \\nabla \\cdot {\\bf u}$$\n",
    "\n",
    "* Explain many geophysical phenomena, including waves\n",
    "\n",
    "* Conserves potential vorticity and enstrophy.\n",
    "\n",
    "##### Why not shallow-water equations?\n",
    "\n",
    "* Kinetic energy is not quadratic, but cubic: $E_K = (H + \\eta) \\frac{\\mathbf{u}.\\mathbf{u}}{2}$\n",
    "* Potential enstrophy is not quadratic in general. But in QG limit with strong rotation: $ Q = \\frac{f +\\zeta }{1+\\eta} \\rightarrow q = \\zeta - f\\eta$\n",
    "* Tendency for waves to develop into shocks giving rise to $k ^ {-2}$ energy spectra"
   ]
  },
  {
   "cell_type": "markdown",
   "metadata": {
    "slideshow": {
     "slide_type": "slide"
    }
   },
   "source": [
    "## 2. Quest for the simplest model\n",
    "#### 2.1 Desirable properties for turbulence studies\n"
   ]
  },
  {
   "cell_type": "markdown",
   "metadata": {
    "slideshow": {
     "slide_type": "fragment"
    }
   },
   "source": [
    "* Kinetic energy (KE) and Available potential energy (APE) must be **quadratic** and **conserved**\n",
    "* Potential enstrophy conservation\n",
    "* No shock formation"
   ]
  },
  {
   "cell_type": "markdown",
   "metadata": {
    "slideshow": {
     "slide_type": "slide"
    }
   },
   "source": [
    "## 2. Quest for the simplest model\n",
    "#### 2.2.  A toy model\n",
    "\n",
    "**(Lindborg and Mohanan 2017)**: Two simple modifications\n",
    "1. Replace RHS of the scalar equation:\n",
    "<br/>\n",
    "<div align=\"center\">\n",
    "$ -(1+\\eta) \\nabla \\cdot  {\\bf u} $&nbsp; &nbsp; &nbsp; &nbsp; &nbsp; with &nbsp; &nbsp; &nbsp; &nbsp; $ -\\nabla \\cdot {\\bf u} $\n",
    "</div>\n",
    "<br/><br/>\n",
    "1. Replace advective operator:\n",
    "<br/>\n",
    "<div align=\"center\">\n",
    "${\\bf u} \\cdot \\nabla$&nbsp; &nbsp; &nbsp; &nbsp; &nbsp; &nbsp; &nbsp; with &nbsp; &nbsp; &nbsp; &nbsp; ${\\bf u_r} \\cdot \\nabla$\n",
    "</div>\n",
    "<br/>\n",
    "$\\bf{u}_r$ = rotational velocity"
   ]
  },
  {
   "cell_type": "markdown",
   "metadata": {
    "slideshow": {
     "slide_type": "slide"
    }
   },
   "source": [
    "## 2. Quest for the simplest model\n",
    "#### 2.3.  The toy model equations\n",
    "\n",
    "$$\\frac{\\partial {\\bf u}} {\\partial t} + {\\bf u}_r\\cdot \\nabla {\\bf u} + f {\\bf e}_z\\times {\\bf u} = -c \\nabla \\theta + (-1)^{p+1} \\nu_p \\nabla^{2p} {\\bf u}$$\n",
    "$$\\frac{\\partial \\theta}{\\partial t}+ {\\bf u}_r \\cdot \\nabla \\theta   = -  c\\nabla \\cdot {\\bf u} + (-1)^{p+1} \\nu_p \\nabla^{2p} {\\theta}$$"
   ]
  },
  {
   "cell_type": "markdown",
   "metadata": {
    "slideshow": {
     "slide_type": "fragment"
    }
   },
   "source": [
    "* **Pros**: No shocks, KE and APE are quadratic and conserved, linearised potential vorticity conserved in the limit $Ro \\rightarrow 0$: $q = \\zeta - f\\eta$\n",
    "\n",
    "* **Cons**: Full potential vorticity $Q$ is not exactly conserved"
   ]
  },
  {
   "cell_type": "markdown",
   "metadata": {
    "slideshow": {
     "slide_type": "slide"
    }
   },
   "source": [
    "## 3. Results\n",
    "\n",
    "#### 3.1 Divergence fields ($\\nabla\\cdot\\bf{u}$)\n",
    "Shallow-water equations and toy model: forcing at $k_f = 6$\n",
    "\n",
    "![Wave-vortex fields](./fig/agu_run1_div.png)"
   ]
  },
  {
   "cell_type": "markdown",
   "metadata": {
    "slideshow": {
     "slide_type": "slide"
    }
   },
   "source": [
    "## 3. Results\n",
    "\n",
    "#### 3.2 Energy spectra and spectral energy fluxes\n",
    "Toy model: forcing at $k_f = 6$\n"
   ]
  },
  {
   "cell_type": "raw",
   "metadata": {},
   "source": [
    "<div>\n",
    "<img src=\"./fig/agu_run1_spectra.png\" alt=\"Drawing\" style=\"width: 40%;\"  align=\"right\"> &nbsp;\n",
    "<img src=\"./fig/agu_run1_flux.png\" alt=\"Drawing\" style=\"width: 40%;\" align=\"right\"/>\n",
    "</div>"
   ]
  },
  {
   "cell_type": "markdown",
   "metadata": {
    "slideshow": {
     "slide_type": "slide"
    }
   },
   "source": [
    "## 3. Results\n",
    "\n",
    "#### 3.3 Spectral energy fluxes\n",
    "Toy-model forced at $k_f = 30$ compared to GCM results from **Augier & Lindborg(2013)**"
   ]
  },
  {
   "cell_type": "raw",
   "metadata": {
    "slideshow": {
     "slide_type": "-"
    }
   },
   "source": [
    "<div>\n",
    "<img src=\"./fig/agu_run3_flux.png\" alt=\"Drawing\" style=\"width: 45%;\"  align=\"right\"/> &nbsp;\n",
    "<img src=\"./fig/agu_gcm_flux.png\" alt=\"Drawing\" style=\"width: 45%;\"  align=\"right\"/>\n",
    "</div>"
   ]
  },
  {
   "cell_type": "markdown",
   "metadata": {
    "slideshow": {
     "slide_type": "slide"
    }
   },
   "source": [
    "## 3. Results\n",
    "\n",
    "#### 3.4 Energy spectra\n",
    "Toy model: forcing at $k_f = 30$\n",
    "\n",
    "![spectra](./fig/agu_run3_spectra.png)"
   ]
  },
  {
   "cell_type": "markdown",
   "metadata": {
    "slideshow": {
     "slide_type": "slide"
    }
   },
   "source": [
    "## 3. Results\n",
    "\n",
    "#### 3.5 Potential vorticity ($q$) and wave ($a_+$) fields\n",
    "Toy model forced at $k_f = 30$\n"
   ]
  },
  {
   "cell_type": "raw",
   "metadata": {
    "slideshow": {
     "slide_type": "-"
    }
   },
   "source": [
    "<div align=\"right\">\n",
    "<video width=\"90%\" controls autoplay loop>\n",
    "  <source src=\"./fig/agu_run3.mp4\" type=\"video/mp4\">\n",
    "</video>\n",
    "</div>"
   ]
  },
  {
   "cell_type": "markdown",
   "metadata": {
    "slideshow": {
     "slide_type": "slide"
    }
   },
   "source": [
    "## 3. Results\n",
    "\n",
    "#### 3.6 Potential vorticity ($q$) and wave ($a_+$) fields: Anticyclone formation\n",
    "Toy model forced at $k_f = 30$\n",
    "\n",
    "![Wave-vortex fields](./fig/agu_run3_anticyc.png)"
   ]
  },
  {
   "cell_type": "markdown",
   "metadata": {
    "slideshow": {
     "slide_type": "slide"
    }
   },
   "source": [
    "## 4. Outlook\n",
    "\n",
    "1. Toy model simulations in **beta plane**\n",
    "1. Large simulation of the toy model over a **sphere**\n",
    "1. Study of **cylonic/anticyclonic assymetry** using the toy model\n",
    "1. Design of a **laboratory experiment** which can behave similar to toy-model equations"
   ]
  },
  {
   "cell_type": "markdown",
   "metadata": {
    "slideshow": {
     "slide_type": "slide"
    }
   },
   "source": [
    "<br/><br/><br/><br/>\n",
    "<div align=\"center\"><h1>Thank you for your attention!</h1></div>"
   ]
  }
 ],
 "metadata": {
  "celltoolbar": "Slideshow",
  "cite2c": {
   "citations": {
    "4218741/3XSZ4X8N": {
     "author": [
      {
       "family": "Bühler",
       "given": "O."
      }
     ],
     "container-title": "J. Atmos. Sci.",
     "container-title-short": "J. Atmos. Sci.",
     "id": "4218741/3XSZ4X8N",
     "issued": {
      "year": "1998"
     },
     "journalAbbreviation": "J. Atmos. Sci.",
     "page": "2884",
     "page-first": "2884",
     "title": "A shallow-water model that prevents nonlinear steepening of gravity waves",
     "type": "article-journal",
     "volume": "55"
    },
    "4218741/8TBG98U6": {
     "DOI": "10.1063/1.4985990",
     "URL": "https://doi.org/10.1063/1.4985990",
     "abstract": "A toy model for large scale geophysical turbulence is constructed by making two modifications of the shallow water model. Unlike the shallow water model, the toy model has a quadratic expression for total energy, which is the sum of Available Potential Energy (APE) and Kinetic Energy (KE). More importantly, in contrast to the shallow water model, the toy model does not produce any shocks. Three numerical simulations with different forcing are presented and compared with the simulation of a full General Circulation Model (GCM). The energy which is injected cascades in a similar way as in the GCM. First, some of the energy is converted from APE to KE at large scales. The wave field then undergoes a forward energy cascade displaying shallow spectra, close to k?5/3, for both APE and KE, while the vortical field either displays a k?3-spectrum or a more shallow spectrum, close to k?5/3, depending on the forcing. In a simulation with medium forcing wave number, some of the energy which is converted from APE to KE undergoes an inverse energy cascade which is produced by nonlinear interactions only involving the rotational component of the velocity field. The inverse energy cascade builds up a vortical field at larger scales than the forcing scale. At these scales, coherent vortices emerge with a strong dominance of anticyclonic vortices. The relevance of the simulation results to the dynamics of the atmosphere is discussed as in possible continuations of the investigation.",
     "accessed": {
      "day": "3",
      "month": "12",
      "year": "2017"
     },
     "author": [
      {
       "family": "Lindborg",
       "given": "Erik"
      },
      {
       "family": "Mohanan",
       "given": "Ashwin Vishnu"
      }
     ],
     "container-title": "Physics of Fluids",
     "container-title-short": "Physics of Fluids",
     "id": "4218741/8TBG98U6",
     "issue": "11",
     "issued": {
      "day": 1,
      "month": "11",
      "year": "2017"
     },
     "journalAbbreviation": "Physics of Fluids",
     "page": "111114",
     "page-first": "111114",
     "title": "A two-dimensional toy model for geophysical turbulence",
     "type": "article-journal",
     "volume": "29"
    },
    "4218741/H6TH6K55": {
     "DOI": "10.1063/1.1762301",
     "URL": "http://scitation.aip.org/content/aip/journal/pof1/10/7/10.1063/1.1762301",
     "author": [
      {
       "family": "Kraichnan",
       "given": "Robert H."
      }
     ],
     "container-title": "Physics of Fluids",
     "id": "4218741/H6TH6K55",
     "issue": "7",
     "issued": {
      "year": "1967"
     },
     "language": "en",
     "page": "1417",
     "page-first": "1417",
     "title": "Inertial Ranges in Two-Dimensional Turbulence",
     "type": "article-journal",
     "volume": "10"
    },
    "4218741/VYW5YIJG": {
     "author": [
      {
       "family": "Nastrom",
       "given": "G. D."
      },
      {
       "family": "Gage",
       "given": "K. S."
      }
     ],
     "container-title": "J. Atmos. Sci.",
     "container-title-short": "J. Atmos. Sci.",
     "id": "4218741/VYW5YIJG",
     "issued": {
      "year": "1985"
     },
     "journalAbbreviation": "J. Atmos. Sci.",
     "page": "950",
     "page-first": "950",
     "title": "A climatology of atmospheric wavenumber spectra of wind and temperature observed by commercial aircraft",
     "type": "article-journal",
     "volume": "42"
    }
   }
  },
  "kernelspec": {
   "display_name": "Python 3",
   "language": "python",
   "name": "python3"
  },
  "language_info": {
   "codemirror_mode": {
    "name": "ipython",
    "version": 3
   },
   "file_extension": ".py",
   "mimetype": "text/x-python",
   "name": "python",
   "nbconvert_exporter": "python",
   "pygments_lexer": "ipython3",
   "version": "3.6.3"
  }
 },
 "nbformat": 4,
 "nbformat_minor": 2
}
