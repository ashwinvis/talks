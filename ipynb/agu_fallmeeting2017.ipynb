{
 "cells": [
  {
   "cell_type": "raw",
   "metadata": {
    "slideshow": {
     "slide_type": "skip"
    }
   },
   "source": [
    "<link rel=\"stylesheet\" href=\"reveal.js/css/theme/white.css\" id=\"theme\">"
   ]
  },
  {
   "cell_type": "markdown",
   "metadata": {
    "slideshow": {
     "slide_type": "slide"
    }
   },
   "source": [
    "# Modifying shallow-water equations as a model for wave-vortex turbulence\n",
    "\n",
    "#### Ashwin Vishnu Mohanan\\*, Pierre Augier^, Erik Lindborg\\*\n",
    "\n",
    "<small>* Linne Flow Center, Department of Mechanics, KTH, Stockholm, Sweden</small>\n",
    "\n",
    "<small>^ LEGI / CNRS, Université Grenoble Alpes, Grenoble, France</small>\n",
    "\n",
    "<div align=\"right\">\n",
    "<img src=\"./fig/logo_FLOW.png\"  style=\"width: 7%\"/> &nbsp; &nbsp;\n",
    "<img src=\"./fig/logo_KTH.png\"  style=\"width: 5%\"/>\n",
    "</div>\n",
    "\n",
    "<div align=\"right\">\n",
    "<font color=\"gray\">\n",
    "<small>\n",
    "11 December 2017 (17:21 - 17:34 hrs), AGU Fall Meeting 2017 <br/>\n",
    "NG14A-07, New Orleans Ernest N. Morial Convention Center; 238-239\n",
    "</small>\n",
    "</font>\n",
    "</div>"
   ]
  },
  {
   "cell_type": "markdown",
   "metadata": {
    "collapsed": true,
    "slideshow": {
     "slide_type": "slide"
    }
   },
   "source": [
    "# Related research"
   ]
  },
  {
   "cell_type": "markdown",
   "metadata": {
    "slideshow": {
     "slide_type": "-"
    }
   },
   "source": [
    "<div>\n",
    "<img src=\"./fig/agu_screen_phf.png\" alt=\"Drawing\" style=\"width: 30%;\" align=\"right\"/>\n",
    "</div>\n",
    "<div>\n",
    "<br/>\n",
    "<img src=\"./fig/agu_screen_sci.png\" alt=\"Drawing\" style=\"width: 30%;\" align=\"right\"/>\n",
    "</div>"
   ]
  },
  {
   "cell_type": "markdown",
   "metadata": {
    "collapsed": true,
    "slideshow": {
     "slide_type": "fragment"
    }
   },
   "source": [
    "\n",
    " 1. **Augier, P., Mohanan A.V. & Lindborg, E.** *Wave energy cascade in forced-dissipative one-layer shallow-water flows.* J. Fluid Mech. (submitted).\n",
    "\n",
    " 1. **Lindborg, E. & Mohanan, A. V.** *A two-dimensional toy model for geophysical turbulence.* Phys. Fluids (2017).\n",
    "\n",
    "Selected as featured research by AIP (Nov 22, 2017)"
   ]
  },
  {
   "cell_type": "markdown",
   "metadata": {
    "slideshow": {
     "slide_type": "slide"
    }
   },
   "source": [
    "# 1. Background: History\n"
   ]
  },
  {
   "cell_type": "markdown",
   "metadata": {
    "slideshow": {
     "slide_type": "-"
    }
   },
   "source": [
    "* **R.H. Kraichnan (1967)**: Hypothesis for inverse energy cascade in 2D turbulence. Energy spectra ~ $k^{-3}$"
   ]
  },
  {
   "cell_type": "markdown",
   "metadata": {
    "slideshow": {
     "slide_type": "fragment"
    }
   },
   "source": [
    "* **Gage (1979) & Lilly (1983)**: Atmospheric mesoscale spectra $k^{-5/3} (1-500 km)$ produced via inverse cascade of Kraichnan type\n",
    "\n",
    "* **Dewan (1979)**: Mesoscale $k^{-5/3}$ spectra: downscale cascade of Kolmogorov type"
   ]
  },
  {
   "cell_type": "markdown",
   "metadata": {
    "slideshow": {
     "slide_type": "fragment"
    }
   },
   "source": [
    "* **Boffetta and Ecke (2012)**: Large scale motions in geophysical flows to first approximation behave as turbulent fluids"
   ]
  },
  {
   "cell_type": "markdown",
   "metadata": {
    "slideshow": {
     "slide_type": "subslide"
    }
   },
   "source": [
    "# 1.1. Background:\n",
    "# Theory of stratified fluids to mesoscale spectra\n"
   ]
  },
  {
   "cell_type": "markdown",
   "metadata": {
    "slideshow": {
     "slide_type": "-"
    }
   },
   "source": [
    "* **Lindborg (2006)** and **Waite & Bartello (2004)**: Mesoscale spectrum consist of thin elongated structures. Vertical length scale $ l_v < l_b = u/N \\approx 1 km$ "
   ]
  },
  {
   "cell_type": "markdown",
   "metadata": {
    "slideshow": {
     "slide_type": "fragment"
    }
   },
   "source": [
    "* **Callies, Bühler and Ferrari (2016)**: Mesoscale spectrum consist of inertia gravity waves, with frequency $\\omega \\approx f$. i.e. $l_v \\approx$ few metres."
   ]
  },
  {
   "cell_type": "markdown",
   "metadata": {
    "slideshow": {
     "slide_type": "subslide"
    }
   },
   "source": [
    "# 1.2. Background: Results from GCM\n"
   ]
  },
  {
   "cell_type": "markdown",
   "metadata": {
    "slideshow": {
     "slide_type": "-"
    }
   },
   "source": [
    " * **Augier & Lindborg (2013)** GCMs such as **AFES** and **MPAS** model can simulate mesoscale energy cascade with coarse vertical resolution: 24 levels!\n"
   ]
  },
  {
   "cell_type": "markdown",
   "metadata": {
    "slideshow": {
     "slide_type": "-"
    }
   },
   "source": [
    "<div>\n",
    "<img src=\"./fig/agu_fig1.png\" alt=\"Drawing\" style=\"width: 35%;\" align=\"right\" hspace=50%/>\n",
    "</div>"
   ]
  },
  {
   "cell_type": "markdown",
   "metadata": {},
   "source": [
    "## Questions\n",
    "\n",
    "* Minimum number of levels required to reproduce $k^{-5/3}$ spectra?\n",
    "\n",
    "* Single level model enough? **1-layer Shallow-water equation?**\n"
   ]
  },
  {
   "cell_type": "markdown",
   "metadata": {
    "slideshow": {
     "slide_type": "slide"
    }
   },
   "source": [
    "# 2. Development of the model\n",
    "\n",
    "### Why shallow-water equations?\n",
    "\n",
    "* Accomodates both waves and vortices\n",
    "\n",
    "* Conserves potential enstrophy in QG limit\n",
    "\n",
    "### Why not shallow-water equations?\n",
    "\n",
    "* Kinetic energy is not quadratic, but cubic: $E_K = (H + \\eta) \\frac{\\mathbf{u}.\\mathbf{u}}{2}$"
   ]
  },
  {
   "cell_type": "code",
   "execution_count": null,
   "metadata": {
    "collapsed": true
   },
   "outputs": [],
   "source": []
  },
  {
   "cell_type": "code",
   "execution_count": null,
   "metadata": {
    "collapsed": true
   },
   "outputs": [],
   "source": []
  }
 ],
 "metadata": {
  "celltoolbar": "Slideshow",
  "kernelspec": {
   "display_name": "Python 3",
   "language": "python",
   "name": "python3"
  },
  "language_info": {
   "codemirror_mode": {
    "name": "ipython",
    "version": 3
   },
   "file_extension": ".py",
   "mimetype": "text/x-python",
   "name": "python",
   "nbconvert_exporter": "python",
   "pygments_lexer": "ipython3",
   "version": "3.6.3"
  }
 },
 "nbformat": 4,
 "nbformat_minor": 2
}
